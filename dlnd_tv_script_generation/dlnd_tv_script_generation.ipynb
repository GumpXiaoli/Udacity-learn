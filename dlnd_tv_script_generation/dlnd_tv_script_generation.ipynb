{
 "cells": [
  {
   "cell_type": "markdown",
   "metadata": {
    "deletable": true,
    "editable": true
   },
   "source": [
    "# TV Script Generation\n",
    "In this project, you'll generate your own [Simpsons](https://en.wikipedia.org/wiki/The_Simpsons) TV scripts using RNNs.  You'll be using part of the [Simpsons dataset](https://www.kaggle.com/wcukierski/the-simpsons-by-the-data) of scripts from 27 seasons.  The Neural Network you'll build will generate a new TV script for a scene at [Moe's Tavern](https://simpsonswiki.com/wiki/Moe's_Tavern).\n",
    "## Get the Data\n",
    "The data is already provided for you.  You'll be using a subset of the original dataset.  It consists of only the scenes in Moe's Tavern.  This doesn't include other versions of the tavern, like \"Moe's Cavern\", \"Flaming Moe's\", \"Uncle Moe's Family Feed-Bag\", etc.."
   ]
  },
  {
   "cell_type": "code",
   "execution_count": 1,
   "metadata": {
    "collapsed": false,
    "deletable": true,
    "editable": true
   },
   "outputs": [],
   "source": [
    "\"\"\"\n",
    "DON'T MODIFY ANYTHING IN THIS CELL\n",
    "\"\"\"\n",
    "import helper\n",
    "\n",
    "data_dir = './data/simpsons/moes_tavern_lines.txt'\n",
    "text = helper.load_data(data_dir)\n",
    "# Ignore notice, since we don't use it for analysing the data\n",
    "text = text[81:]"
   ]
  },
  {
   "cell_type": "markdown",
   "metadata": {
    "deletable": true,
    "editable": true
   },
   "source": [
    "## Explore the Data\n",
    "Play around with `view_sentence_range` to view different parts of the data."
   ]
  },
  {
   "cell_type": "code",
   "execution_count": 2,
   "metadata": {
    "collapsed": false,
    "deletable": true,
    "editable": true
   },
   "outputs": [
    {
     "name": "stdout",
     "output_type": "stream",
     "text": [
      "Dataset Stats\n",
      "Roughly the number of unique words: 11492\n",
      "Number of scenes: 262\n",
      "Average number of sentences in each scene: 15.248091603053435\n",
      "Number of lines: 4257\n",
      "Average number of words in each line: 11.50434578341555\n",
      "\n",
      "The sentences 0 to 10:\n",
      "Moe_Szyslak: (INTO PHONE) Moe's Tavern. Where the elite meet to drink.\n",
      "Bart_Simpson: Eh, yeah, hello, is Mike there? Last name, Rotch.\n",
      "Moe_Szyslak: (INTO PHONE) Hold on, I'll check. (TO BARFLIES) Mike Rotch. Mike Rotch. Hey, has anybody seen Mike Rotch, lately?\n",
      "Moe_Szyslak: (INTO PHONE) Listen you little puke. One of these days I'm gonna catch you, and I'm gonna carve my name on your back with an ice pick.\n",
      "Moe_Szyslak: What's the matter Homer? You're not your normal effervescent self.\n",
      "Homer_Simpson: I got my problems, Moe. Give me another one.\n",
      "Moe_Szyslak: Homer, hey, you should not drink to forget your problems.\n",
      "Barney_Gumble: Yeah, you should only drink to enhance your social skills.\n",
      "\n",
      "\n"
     ]
    }
   ],
   "source": [
    "view_sentence_range = (0, 10)\n",
    "\n",
    "\"\"\"\n",
    "DON'T MODIFY ANYTHING IN THIS CELL\n",
    "\"\"\"\n",
    "import numpy as np\n",
    "\n",
    "print('Dataset Stats')\n",
    "print('Roughly the number of unique words: {}'.format(len({word: None for word in text.split()})))\n",
    "scenes = text.split('\\n\\n')\n",
    "print('Number of scenes: {}'.format(len(scenes)))\n",
    "sentence_count_scene = [scene.count('\\n') for scene in scenes]\n",
    "print('Average number of sentences in each scene: {}'.format(np.average(sentence_count_scene)))\n",
    "\n",
    "sentences = [sentence for scene in scenes for sentence in scene.split('\\n')]\n",
    "print('Number of lines: {}'.format(len(sentences)))\n",
    "word_count_sentence = [len(sentence.split()) for sentence in sentences]\n",
    "print('Average number of words in each line: {}'.format(np.average(word_count_sentence)))\n",
    "\n",
    "print()\n",
    "print('The sentences {} to {}:'.format(*view_sentence_range))\n",
    "print('\\n'.join(text.split('\\n')[view_sentence_range[0]:view_sentence_range[1]]))"
   ]
  },
  {
   "cell_type": "markdown",
   "metadata": {
    "deletable": true,
    "editable": true
   },
   "source": [
    "## Implement Preprocessing Functions\n",
    "The first thing to do to any dataset is preprocessing.  Implement the following preprocessing functions below:\n",
    "- Lookup Table\n",
    "- Tokenize Punctuation\n",
    "\n",
    "### Lookup Table\n",
    "To create a word embedding, you first need to transform the words to ids.  In this function, create two dictionaries:\n",
    "- Dictionary to go from the words to an id, we'll call `vocab_to_int`\n",
    "- Dictionary to go from the id to word, we'll call `int_to_vocab`\n",
    "\n",
    "Return these dictionaries in the following tuple `(vocab_to_int, int_to_vocab)`"
   ]
  },
  {
   "cell_type": "code",
   "execution_count": 3,
   "metadata": {
    "collapsed": false,
    "deletable": true,
    "editable": true
   },
   "outputs": [
    {
     "name": "stdout",
     "output_type": "stream",
     "text": [
      "Tests Passed\n"
     ]
    }
   ],
   "source": [
    "import numpy as np\n",
    "import problem_unittests as tests\n",
    "\n",
    "def create_lookup_tables(text):\n",
    "    \"\"\"\n",
    "    Create lookup tables for vocabulary\n",
    "    :param text: The text of tv scripts split into words\n",
    "    :return: A tuple of dicts (vocab_to_int, int_to_vocab)\n",
    "    \"\"\"\n",
    "    # TODO: Implement Function\n",
    "    vocab=sorted(set(text))\n",
    "    vocab_to_int = {word: ii for ii, word in enumerate(vocab, 1)}\n",
    "    int_to_vocab={vocab_to_int[key]:key for key in vocab_to_int}\n",
    "    \n",
    "    return vocab_to_int, int_to_vocab\n",
    "\n",
    "\n",
    "\"\"\"\n",
    "DON'T MODIFY ANYTHING IN THIS CELL THAT IS BELOW THIS LINE\n",
    "\"\"\"\n",
    "tests.test_create_lookup_tables(create_lookup_tables)"
   ]
  },
  {
   "cell_type": "markdown",
   "metadata": {
    "deletable": true,
    "editable": true
   },
   "source": [
    "### Tokenize Punctuation\n",
    "We'll be splitting the script into a word array using spaces as delimiters.  However, punctuations like periods and exclamation marks make it hard for the neural network to distinguish between the word \"bye\" and \"bye!\".\n",
    "\n",
    "Implement the function `token_lookup` to return a dict that will be used to tokenize symbols like \"!\" into \"||Exclamation_Mark||\".  Create a dictionary for the following symbols where the symbol is the key and value is the token:\n",
    "- Period ( . )\n",
    "- Comma ( , )\n",
    "- Quotation Mark ( \" )\n",
    "- Semicolon ( ; )\n",
    "- Exclamation mark ( ! )\n",
    "- Question mark ( ? )\n",
    "- Left Parentheses ( ( )\n",
    "- Right Parentheses ( ) )\n",
    "- Dash ( -- )\n",
    "- Return ( \\n )\n",
    "\n",
    "This dictionary will be used to token the symbols and add the delimiter (space) around it.  This separates the symbols as it's own word, making it easier for the neural network to predict on the next word. Make sure you don't use a token that could be confused as a word. Instead of using the token \"dash\", try using something like \"||dash||\"."
   ]
  },
  {
   "cell_type": "code",
   "execution_count": 4,
   "metadata": {
    "collapsed": false,
    "deletable": true,
    "editable": true
   },
   "outputs": [
    {
     "name": "stdout",
     "output_type": "stream",
     "text": [
      "Tests Passed\n"
     ]
    }
   ],
   "source": [
    "def token_lookup():\n",
    "    \"\"\"\n",
    "    Generate a dict to turn punctuation into a token.\n",
    "    :return: Tokenize dictionary where the key is the punctuation and the value is the token\n",
    "    \"\"\"\n",
    "    # TODO: Implement Function\n",
    "    dic={}\n",
    "    dic['.']=\"||Period||\"\n",
    "    dic[',']=\"||Comma||\"\n",
    "    dic['\"']=\"||Quotation_Mark||\"\n",
    "    dic[';']=\"||Semicolon||\"\n",
    "    dic['!']=\"||Exclamation_Mark||\"\n",
    "    dic['?']=\"||Question_Mark||\"\n",
    "    dic['(']=\"||Left_Parentheses||\"\n",
    "    dic[')']=\"||Right_Parentheses||\"\n",
    "    dic['--']=\"||Dash||\"\n",
    "    dic['\\n']=\"||Return||\"\n",
    "    \n",
    "    return dic\n",
    "\n",
    "\"\"\"\n",
    "DON'T MODIFY ANYTHING IN THIS CELL THAT IS BELOW THIS LINE\n",
    "\"\"\"\n",
    "tests.test_tokenize(token_lookup)"
   ]
  },
  {
   "cell_type": "markdown",
   "metadata": {
    "deletable": true,
    "editable": true
   },
   "source": [
    "## Preprocess all the data and save it\n",
    "Running the code cell below will preprocess all the data and save it to file."
   ]
  },
  {
   "cell_type": "code",
   "execution_count": 5,
   "metadata": {
    "collapsed": false,
    "deletable": true,
    "editable": true
   },
   "outputs": [],
   "source": [
    "\"\"\"\n",
    "DON'T MODIFY ANYTHING IN THIS CELL\n",
    "\"\"\"\n",
    "# Preprocess Training, Validation, and Testing Data\n",
    "helper.preprocess_and_save_data(data_dir, token_lookup, create_lookup_tables)"
   ]
  },
  {
   "cell_type": "markdown",
   "metadata": {
    "deletable": true,
    "editable": true
   },
   "source": [
    "# Check Point\n",
    "This is your first checkpoint. If you ever decide to come back to this notebook or have to restart the notebook, you can start from here. The preprocessed data has been saved to disk."
   ]
  },
  {
   "cell_type": "code",
   "execution_count": 6,
   "metadata": {
    "collapsed": false,
    "deletable": true,
    "editable": true
   },
   "outputs": [],
   "source": [
    "\"\"\"\n",
    "DON'T MODIFY ANYTHING IN THIS CELL\n",
    "\"\"\"\n",
    "import helper\n",
    "import numpy as np\n",
    "import problem_unittests as tests\n",
    "\n",
    "int_text, vocab_to_int, int_to_vocab, token_dict = helper.load_preprocess()"
   ]
  },
  {
   "cell_type": "markdown",
   "metadata": {
    "deletable": true,
    "editable": true
   },
   "source": [
    "## Build the Neural Network\n",
    "You'll build the components necessary to build a RNN by implementing the following functions below:\n",
    "- get_inputs\n",
    "- get_init_cell\n",
    "- get_embed\n",
    "- build_rnn\n",
    "- build_nn\n",
    "- get_batches\n",
    "\n",
    "### Check the Version of TensorFlow and Access to GPU"
   ]
  },
  {
   "cell_type": "code",
   "execution_count": 7,
   "metadata": {
    "collapsed": false,
    "deletable": true,
    "editable": true
   },
   "outputs": [
    {
     "name": "stdout",
     "output_type": "stream",
     "text": [
      "TensorFlow Version: 1.0.0\n",
      "Default GPU Device: /gpu:0\n"
     ]
    }
   ],
   "source": [
    "\"\"\"\n",
    "DON'T MODIFY ANYTHING IN THIS CELL\n",
    "\"\"\"\n",
    "from distutils.version import LooseVersion\n",
    "import warnings\n",
    "import tensorflow as tf\n",
    "\n",
    "# Check TensorFlow Version\n",
    "assert LooseVersion(tf.__version__) >= LooseVersion('1.0'), 'Please use TensorFlow version 1.0 or newer'\n",
    "print('TensorFlow Version: {}'.format(tf.__version__))\n",
    "\n",
    "# Check for a GPU\n",
    "if not tf.test.gpu_device_name():\n",
    "    warnings.warn('No GPU found. Please use a GPU to train your neural network.')\n",
    "else:\n",
    "    print('Default GPU Device: {}'.format(tf.test.gpu_device_name()))"
   ]
  },
  {
   "cell_type": "markdown",
   "metadata": {
    "deletable": true,
    "editable": true
   },
   "source": [
    "### Input\n",
    "Implement the `get_inputs()` function to create TF Placeholders for the Neural Network.  It should create the following placeholders:\n",
    "- Input text placeholder named \"input\" using the [TF Placeholder](https://www.tensorflow.org/api_docs/python/tf/placeholder) `name` parameter.\n",
    "- Targets placeholder\n",
    "- Learning Rate placeholder\n",
    "\n",
    "Return the placeholders in the following tuple `(Input, Targets, LearningRate)`"
   ]
  },
  {
   "cell_type": "code",
   "execution_count": 8,
   "metadata": {
    "collapsed": false,
    "deletable": true,
    "editable": true
   },
   "outputs": [
    {
     "name": "stdout",
     "output_type": "stream",
     "text": [
      "Tests Passed\n"
     ]
    }
   ],
   "source": [
    "def get_inputs():\n",
    "    \"\"\"\n",
    "    Create TF Placeholders for input, targets, and learning rate.\n",
    "    :return: Tuple (input, targets, learning rate)\n",
    "    \"\"\"\n",
    "    # TODO: Implement Function\n",
    "    input_ = tf.placeholder(tf.int32, [None, None], name='input')\n",
    "    targets_ = tf.placeholder(tf.int32, [None, None], name='targets')\n",
    "    LearningRate = tf.placeholder(tf.float32, name='LearningRate')\n",
    "    \n",
    "    return input_, targets_, LearningRate\n",
    "\n",
    "\n",
    "\"\"\"\n",
    "DON'T MODIFY ANYTHING IN THIS CELL THAT IS BELOW THIS LINE\n",
    "\"\"\"\n",
    "tests.test_get_inputs(get_inputs)"
   ]
  },
  {
   "cell_type": "markdown",
   "metadata": {
    "deletable": true,
    "editable": true
   },
   "source": [
    "### Build RNN Cell and Initialize\n",
    "Stack one or more [`BasicLSTMCells`](https://www.tensorflow.org/api_docs/python/tf/contrib/rnn/BasicLSTMCell) in a [`MultiRNNCell`](https://www.tensorflow.org/api_docs/python/tf/contrib/rnn/MultiRNNCell).\n",
    "- The Rnn size should be set using `rnn_size`\n",
    "- Initalize Cell State using the MultiRNNCell's [`zero_state()`](https://www.tensorflow.org/api_docs/python/tf/contrib/rnn/MultiRNNCell#zero_state) function\n",
    "    - Apply the name \"initial_state\" to the initial state using [`tf.identity()`](https://www.tensorflow.org/api_docs/python/tf/identity)\n",
    "\n",
    "Return the cell and initial state in the following tuple `(Cell, InitialState)`"
   ]
  },
  {
   "cell_type": "code",
   "execution_count": 9,
   "metadata": {
    "collapsed": false,
    "deletable": true,
    "editable": true
   },
   "outputs": [
    {
     "name": "stdout",
     "output_type": "stream",
     "text": [
      "Tests Passed\n"
     ]
    }
   ],
   "source": [
    "def get_init_cell(batch_size, rnn_size):\n",
    "    \"\"\"\n",
    "    Create an RNN Cell and initialize it.\n",
    "    :param batch_size: Size of batches\n",
    "    :param rnn_size: Size of RNNs\n",
    "    :return: Tuple (cell, initialize state)\n",
    "    \"\"\"\n",
    "    # TODO: Implement Function\n",
    "    lstm = tf.contrib.rnn.BasicLSTMCell(rnn_size)\n",
    "    \n",
    "    drop = tf.contrib.rnn.DropoutWrapper(lstm, output_keep_prob=0.5)\n",
    "    \n",
    "    # Stack up multiple LSTM layers, for deep learning\n",
    "    cell = tf.contrib.rnn.MultiRNNCell([drop] * 1)\n",
    "    \n",
    "    # Getting an initial state of all zeros\n",
    "    initial_state = tf.identity(cell.zero_state(batch_size, tf.float32),name='initial_state')\n",
    "    \n",
    "    return cell, initial_state\n",
    "\n",
    "\n",
    "\"\"\"\n",
    "DON'T MODIFY ANYTHING IN THIS CELL THAT IS BELOW THIS LINE\n",
    "\"\"\"\n",
    "tests.test_get_init_cell(get_init_cell)"
   ]
  },
  {
   "cell_type": "markdown",
   "metadata": {
    "deletable": true,
    "editable": true
   },
   "source": [
    "### Word Embedding\n",
    "Apply embedding to `input_data` using TensorFlow.  Return the embedded sequence."
   ]
  },
  {
   "cell_type": "code",
   "execution_count": 10,
   "metadata": {
    "collapsed": false,
    "deletable": true,
    "editable": true
   },
   "outputs": [
    {
     "name": "stdout",
     "output_type": "stream",
     "text": [
      "Tests Passed\n"
     ]
    }
   ],
   "source": [
    "def get_embed(input_data, vocab_size, embed_dim):\n",
    "    \"\"\"\n",
    "    Create embedding for <input_data>.\n",
    "    :param input_data: TF placeholder for text input.\n",
    "    :param vocab_size: Number of words in vocabulary.\n",
    "    :param embed_dim: Number of embedding dimensions\n",
    "    :return: Embedded input.\n",
    "    \"\"\"\n",
    "    # TODO: Implement Function\n",
    "    embedding = tf.Variable(tf.random_uniform((vocab_size, embed_dim), -1, 1))\n",
    "    embed = tf.nn.embedding_lookup(embedding, input_data)\n",
    "    \n",
    "    return embed\n",
    "\n",
    "\n",
    "\"\"\"\n",
    "DON'T MODIFY ANYTHING IN THIS CELL THAT IS BELOW THIS LINE\n",
    "\"\"\"\n",
    "tests.test_get_embed(get_embed)"
   ]
  },
  {
   "cell_type": "markdown",
   "metadata": {
    "deletable": true,
    "editable": true
   },
   "source": [
    "### Build RNN\n",
    "You created a RNN Cell in the `get_init_cell()` function.  Time to use the cell to create a RNN.\n",
    "- Build the RNN using the [`tf.nn.dynamic_rnn()`](https://www.tensorflow.org/api_docs/python/tf/nn/dynamic_rnn)\n",
    " - Apply the name \"final_state\" to the final state using [`tf.identity()`](https://www.tensorflow.org/api_docs/python/tf/identity)\n",
    "\n",
    "Return the outputs and final_state state in the following tuple `(Outputs, FinalState)` "
   ]
  },
  {
   "cell_type": "code",
   "execution_count": 11,
   "metadata": {
    "collapsed": false,
    "deletable": true,
    "editable": true
   },
   "outputs": [
    {
     "name": "stdout",
     "output_type": "stream",
     "text": [
      "Tests Passed\n"
     ]
    }
   ],
   "source": [
    "def build_rnn(cell, inputs):\n",
    "    \"\"\"\n",
    "    Create a RNN using a RNN Cell\n",
    "    :param cell: RNN Cell\n",
    "    :param inputs: Input text data\n",
    "    :return: Tuple (Outputs, Final State)\n",
    "    \"\"\"\n",
    "    # TODO: Implement Function\n",
    "    outputs, final_state = tf.nn.dynamic_rnn(cell,dtype=tf.float32,inputs=inputs)\n",
    "    final_state_=tf.identity(final_state,name='final_state')\n",
    "    return outputs, final_state_\n",
    "\n",
    "\n",
    "\"\"\"\n",
    "DON'T MODIFY ANYTHING IN THIS CELL THAT IS BELOW THIS LINE\n",
    "\"\"\"\n",
    "tests.test_build_rnn(build_rnn)"
   ]
  },
  {
   "cell_type": "markdown",
   "metadata": {
    "deletable": true,
    "editable": true
   },
   "source": [
    "### Build the Neural Network\n",
    "Apply the functions you implemented above to:\n",
    "- Apply embedding to `input_data` using your `get_embed(input_data, vocab_size, embed_dim)` function.\n",
    "- Build RNN using `cell` and your `build_rnn(cell, inputs)` function.\n",
    "- Apply a fully connected layer with a linear activation and `vocab_size` as the number of outputs.\n",
    "\n",
    "Return the logits and final state in the following tuple (Logits, FinalState) "
   ]
  },
  {
   "cell_type": "code",
   "execution_count": 12,
   "metadata": {
    "collapsed": false,
    "deletable": true,
    "editable": true
   },
   "outputs": [
    {
     "name": "stdout",
     "output_type": "stream",
     "text": [
      "Tests Passed\n"
     ]
    }
   ],
   "source": [
    "def build_nn(cell, rnn_size, input_data, vocab_size, embed_dim):\n",
    "    \"\"\"\n",
    "    Build part of the neural network\n",
    "    :param cell: RNN cell\n",
    "    :param rnn_size: Size of rnns\n",
    "    :param input_data: Input data\n",
    "    :param vocab_size: Vocabulary size\n",
    "    :param embed_dim: Number of embedding dimensions\n",
    "    :return: Tuple (Logits, FinalState)\n",
    "    \"\"\"\n",
    "    # TODO: Implement Function\n",
    "    embed=get_embed(input_data, vocab_size, embed_dim)\n",
    "    lstm_output,final_state=build_rnn(cell, embed)\n",
    "    logits=tf.contrib.layers.fully_connected(lstm_output, vocab_size, activation_fn=None)\n",
    "    return logits, final_state\n",
    "    \n",
    "\n",
    "\"\"\"\n",
    "DON'T MODIFY ANYTHING IN THIS CELL THAT IS BELOW THIS LINE\n",
    "\"\"\"\n",
    "tests.test_build_nn(build_nn)"
   ]
  },
  {
   "cell_type": "markdown",
   "metadata": {
    "deletable": true,
    "editable": true
   },
   "source": [
    "### Batches\n",
    "Implement `get_batches` to create batches of input and targets using `int_text`.  The batches should be a Numpy array with the shape `(number of batches, 2, batch size, sequence length)`. Each batch contains two elements:\n",
    "- The first element is a single batch of **input** with the shape `[batch size, sequence length]`\n",
    "- The second element is a single batch of **targets** with the shape `[batch size, sequence length]`\n",
    "\n",
    "If you can't fill the last batch with enough data, drop the last batch.\n",
    "\n",
    "For exmple, `get_batches([1, 2, 3, 4, 5, 6, 7, 8, 9, 10, 11, 12, 13, 14, 15], 2, 3)` would return a Numpy array of the following:\n",
    "```\n",
    "[\n",
    "  # First Batch\n",
    "  [\n",
    "    # Batch of Input\n",
    "    [[ 1  2  3], [ 7  8  9]],\n",
    "    # Batch of targets\n",
    "    [[ 2  3  4], [ 8  9 10]]\n",
    "  ],\n",
    " \n",
    "  # Second Batch\n",
    "  [\n",
    "    # Batch of Input\n",
    "    [[ 4  5  6], [10 11 12]],\n",
    "    # Batch of targets\n",
    "    [[ 5  6  7], [11 12 13]]\n",
    "  ]\n",
    "]\n",
    "```"
   ]
  },
  {
   "cell_type": "code",
   "execution_count": 13,
   "metadata": {
    "collapsed": false,
    "deletable": true,
    "editable": true
   },
   "outputs": [
    {
     "name": "stdout",
     "output_type": "stream",
     "text": [
      "Tests Passed\n"
     ]
    }
   ],
   "source": [
    "def get_batches(int_text, batch_size, seq_length):\n",
    "    \"\"\"\n",
    "    Return batches of input and target\n",
    "    :param int_text: Text with the words replaced by their ids\n",
    "    :param batch_size: The size of batch\n",
    "    :param seq_length: The length of sequence\n",
    "    :return: Batches as a Numpy array\n",
    "    \"\"\"\n",
    "    # TODO: Implement Function\n",
    "    words_per_batch = batch_size * seq_length\n",
    "    n_batches=len(int_text)//words_per_batch\n",
    "    \n",
    "    data_batches=np.zeros((n_batches,2,batch_size,seq_length),dtype=np.array(int_text).dtype)\n",
    "    \n",
    "    for n in range(n_batches):\n",
    "        id_start=n*words_per_batch\n",
    "        x_temp=np.array(int_text[id_start:id_start+words_per_batch])\n",
    "        x=x_temp.reshape((batch_size,-1))\n",
    "        \n",
    "        y_temp=np.zeros((words_per_batch),dtype=np.array(int_text).dtype)\n",
    "        y_temp[:-1]=x_temp[1:]\n",
    "        if(len(int_text)>id_start+words_per_batch):\n",
    "            y_temp[-1]=int_text[id_start+words_per_batch]\n",
    "        y=y_temp.reshape((batch_size,-1))\n",
    "        \n",
    "        data_batches[n,0,:,:]=x\n",
    "        data_batches[n,1,:,:]=y\n",
    "        \n",
    "    return data_batches\n",
    "\n",
    "\n",
    "\"\"\"\n",
    "DON'T MODIFY ANYTHING IN THIS CELL THAT IS BELOW THIS LINE\n",
    "\"\"\"\n",
    "tests.test_get_batches(get_batches)"
   ]
  },
  {
   "cell_type": "markdown",
   "metadata": {
    "deletable": true,
    "editable": true
   },
   "source": [
    "## Neural Network Training\n",
    "### Hyperparameters\n",
    "Tune the following parameters:\n",
    "\n",
    "- Set `num_epochs` to the number of epochs.\n",
    "- Set `batch_size` to the batch size.\n",
    "- Set `rnn_size` to the size of the RNNs.\n",
    "- Set `embed_dim` to the size of the embedding.\n",
    "- Set `seq_length` to the length of sequence.\n",
    "- Set `learning_rate` to the learning rate.\n",
    "- Set `show_every_n_batches` to the number of batches the neural network should print progress."
   ]
  },
  {
   "cell_type": "code",
   "execution_count": 14,
   "metadata": {
    "collapsed": true,
    "deletable": true,
    "editable": true
   },
   "outputs": [],
   "source": [
    "# Number of Epochs\n",
    "num_epochs = 20\n",
    "# Batch Size\n",
    "batch_size = 50\n",
    "# RNN Size\n",
    "rnn_size = 128\n",
    "# Embedding Dimension Size\n",
    "embed_dim = 300\n",
    "# Sequence Length\n",
    "seq_length = 10\n",
    "# Learning Rate\n",
    "learning_rate = 0.0005\n",
    "# Show stats for every n number of batches\n",
    "show_every_n_batches = 5\n",
    "\n",
    "\"\"\"\n",
    "DON'T MODIFY ANYTHING IN THIS CELL THAT IS BELOW THIS LINE\n",
    "\"\"\"\n",
    "save_dir = './save'"
   ]
  },
  {
   "cell_type": "markdown",
   "metadata": {
    "deletable": true,
    "editable": true
   },
   "source": [
    "### Build the Graph\n",
    "Build the graph using the neural network you implemented."
   ]
  },
  {
   "cell_type": "code",
   "execution_count": 15,
   "metadata": {
    "collapsed": false,
    "deletable": true,
    "editable": true
   },
   "outputs": [],
   "source": [
    "\"\"\"\n",
    "DON'T MODIFY ANYTHING IN THIS CELL\n",
    "\"\"\"\n",
    "from tensorflow.contrib import seq2seq\n",
    "\n",
    "train_graph = tf.Graph()\n",
    "with train_graph.as_default():\n",
    "    vocab_size = len(int_to_vocab)\n",
    "    input_text, targets, lr = get_inputs()\n",
    "    input_data_shape = tf.shape(input_text)\n",
    "    cell, initial_state = get_init_cell(input_data_shape[0], rnn_size)\n",
    "    logits, final_state = build_nn(cell, rnn_size, input_text, vocab_size, embed_dim)\n",
    "\n",
    "    # Probabilities for generating words\n",
    "    probs = tf.nn.softmax(logits, name='probs')\n",
    "\n",
    "    # Loss function\n",
    "    cost = seq2seq.sequence_loss(\n",
    "        logits,\n",
    "        targets,\n",
    "        tf.ones([input_data_shape[0], input_data_shape[1]]))\n",
    "\n",
    "    # Optimizer\n",
    "    optimizer = tf.train.AdamOptimizer(lr)\n",
    "\n",
    "    # Gradient Clipping\n",
    "    gradients = optimizer.compute_gradients(cost)\n",
    "    capped_gradients = [(tf.clip_by_value(grad, -1., 1.), var) for grad, var in gradients if grad is not None]\n",
    "    train_op = optimizer.apply_gradients(capped_gradients)"
   ]
  },
  {
   "cell_type": "markdown",
   "metadata": {
    "deletable": true,
    "editable": true
   },
   "source": [
    "## Train\n",
    "Train the neural network on the preprocessed data.  If you have a hard time getting a good loss, check the [forms](https://discussions.udacity.com/) to see if anyone is having the same problem."
   ]
  },
  {
   "cell_type": "code",
   "execution_count": 16,
   "metadata": {
    "collapsed": false,
    "deletable": true,
    "editable": true
   },
   "outputs": [
    {
     "name": "stdout",
     "output_type": "stream",
     "text": [
      "Epoch   0 Batch    0/138   train_loss = 8.822\n",
      "Epoch   0 Batch    5/138   train_loss = 8.803\n",
      "Epoch   0 Batch   10/138   train_loss = 8.759\n",
      "Epoch   0 Batch   15/138   train_loss = 8.689\n",
      "Epoch   0 Batch   20/138   train_loss = 8.568\n",
      "Epoch   0 Batch   25/138   train_loss = 8.363\n",
      "Epoch   0 Batch   30/138   train_loss = 8.053\n",
      "Epoch   0 Batch   35/138   train_loss = 7.626\n",
      "Epoch   0 Batch   40/138   train_loss = 7.241\n",
      "Epoch   0 Batch   45/138   train_loss = 6.869\n",
      "Epoch   0 Batch   50/138   train_loss = 6.725\n",
      "Epoch   0 Batch   55/138   train_loss = 6.156\n",
      "Epoch   0 Batch   60/138   train_loss = 6.531\n",
      "Epoch   0 Batch   65/138   train_loss = 6.481\n",
      "Epoch   0 Batch   70/138   train_loss = 6.851\n",
      "Epoch   0 Batch   75/138   train_loss = 6.760\n",
      "Epoch   0 Batch   80/138   train_loss = 6.445\n",
      "Epoch   0 Batch   85/138   train_loss = 6.515\n",
      "Epoch   0 Batch   90/138   train_loss = 6.656\n",
      "Epoch   0 Batch   95/138   train_loss = 6.557\n",
      "Epoch   0 Batch  100/138   train_loss = 6.389\n",
      "Epoch   0 Batch  105/138   train_loss = 6.561\n",
      "Epoch   0 Batch  110/138   train_loss = 6.669\n",
      "Epoch   0 Batch  115/138   train_loss = 6.648\n",
      "Epoch   0 Batch  120/138   train_loss = 6.507\n",
      "Epoch   0 Batch  125/138   train_loss = 6.737\n",
      "Epoch   0 Batch  130/138   train_loss = 6.712\n",
      "Epoch   0 Batch  135/138   train_loss = 6.062\n",
      "Epoch   1 Batch    2/138   train_loss = 6.069\n",
      "Epoch   1 Batch    7/138   train_loss = 6.530\n",
      "Epoch   1 Batch   12/138   train_loss = 6.032\n",
      "Epoch   1 Batch   17/138   train_loss = 6.418\n",
      "Epoch   1 Batch   22/138   train_loss = 6.419\n",
      "Epoch   1 Batch   27/138   train_loss = 6.255\n",
      "Epoch   1 Batch   32/138   train_loss = 6.391\n",
      "Epoch   1 Batch   37/138   train_loss = 6.082\n",
      "Epoch   1 Batch   42/138   train_loss = 6.380\n",
      "Epoch   1 Batch   47/138   train_loss = 6.105\n",
      "Epoch   1 Batch   52/138   train_loss = 6.066\n",
      "Epoch   1 Batch   57/138   train_loss = 6.334\n",
      "Epoch   1 Batch   62/138   train_loss = nan\n",
      "Epoch   1 Batch   67/138   train_loss = 6.312\n",
      "Epoch   1 Batch   72/138   train_loss = 6.351\n",
      "Epoch   1 Batch   77/138   train_loss = 6.487\n",
      "Epoch   1 Batch   82/138   train_loss = 6.316\n",
      "Epoch   1 Batch   87/138   train_loss = 6.358\n",
      "Epoch   1 Batch   92/138   train_loss = 6.336\n",
      "Epoch   1 Batch   97/138   train_loss = 6.504\n",
      "Epoch   1 Batch  102/138   train_loss = 6.461\n",
      "Epoch   1 Batch  107/138   train_loss = 6.448\n",
      "Epoch   1 Batch  112/138   train_loss = 6.523\n",
      "Epoch   1 Batch  117/138   train_loss = 6.504\n",
      "Epoch   1 Batch  122/138   train_loss = 6.331\n",
      "Epoch   1 Batch  127/138   train_loss = 6.513\n",
      "Epoch   1 Batch  132/138   train_loss = 6.418\n",
      "Epoch   1 Batch  137/138   train_loss = 6.040\n",
      "Epoch   2 Batch    4/138   train_loss = 6.202\n",
      "Epoch   2 Batch    9/138   train_loss = 6.106\n",
      "Epoch   2 Batch   14/138   train_loss = 5.972\n",
      "Epoch   2 Batch   19/138   train_loss = 6.104\n",
      "Epoch   2 Batch   24/138   train_loss = 6.144\n",
      "Epoch   2 Batch   29/138   train_loss = 6.317\n",
      "Epoch   2 Batch   34/138   train_loss = 6.417\n",
      "Epoch   2 Batch   39/138   train_loss = 6.196\n",
      "Epoch   2 Batch   44/138   train_loss = 6.220\n",
      "Epoch   2 Batch   49/138   train_loss = 6.011\n",
      "Epoch   2 Batch   54/138   train_loss = 6.397\n",
      "Epoch   2 Batch   59/138   train_loss = 6.331\n",
      "Epoch   2 Batch   64/138   train_loss = 6.470\n",
      "Epoch   2 Batch   69/138   train_loss = 6.545\n",
      "Epoch   2 Batch   74/138   train_loss = 6.390\n",
      "Epoch   2 Batch   79/138   train_loss = nan\n",
      "Epoch   2 Batch   84/138   train_loss = 6.513\n",
      "Epoch   2 Batch   89/138   train_loss = 6.457\n",
      "Epoch   2 Batch   94/138   train_loss = 6.332\n",
      "Epoch   2 Batch   99/138   train_loss = 6.800\n",
      "Epoch   2 Batch  104/138   train_loss = 6.423\n",
      "Epoch   2 Batch  109/138   train_loss = 6.538\n",
      "Epoch   2 Batch  114/138   train_loss = nan\n",
      "Epoch   2 Batch  119/138   train_loss = 6.337\n",
      "Epoch   2 Batch  124/138   train_loss = 6.158\n",
      "Epoch   2 Batch  129/138   train_loss = 6.391\n",
      "Epoch   2 Batch  134/138   train_loss = 6.202\n",
      "Epoch   3 Batch    1/138   train_loss = 5.935\n",
      "Epoch   3 Batch    6/138   train_loss = 6.201\n",
      "Epoch   3 Batch   11/138   train_loss = 5.967\n",
      "Epoch   3 Batch   16/138   train_loss = 5.880\n",
      "Epoch   3 Batch   21/138   train_loss = 6.043\n",
      "Epoch   3 Batch   26/138   train_loss = 6.023\n",
      "Epoch   3 Batch   31/138   train_loss = 5.952\n",
      "Epoch   3 Batch   36/138   train_loss = 5.978\n",
      "Epoch   3 Batch   41/138   train_loss = 6.192\n",
      "Epoch   3 Batch   46/138   train_loss = 6.280\n",
      "Epoch   3 Batch   51/138   train_loss = 5.919\n",
      "Epoch   3 Batch   56/138   train_loss = 6.057\n",
      "Epoch   3 Batch   61/138   train_loss = 6.231\n",
      "Epoch   3 Batch   66/138   train_loss = 6.289\n",
      "Epoch   3 Batch   71/138   train_loss = 6.354\n",
      "Epoch   3 Batch   76/138   train_loss = 5.995\n",
      "Epoch   3 Batch   81/138   train_loss = 6.188\n",
      "Epoch   3 Batch   86/138   train_loss = 6.468\n",
      "Epoch   3 Batch   91/138   train_loss = 6.257\n",
      "Epoch   3 Batch   96/138   train_loss = 6.405\n",
      "Epoch   3 Batch  101/138   train_loss = 6.753\n",
      "Epoch   3 Batch  106/138   train_loss = 6.467\n",
      "Epoch   3 Batch  111/138   train_loss = 6.331\n",
      "Epoch   3 Batch  116/138   train_loss = 6.685\n",
      "Epoch   3 Batch  121/138   train_loss = 6.411\n",
      "Epoch   3 Batch  126/138   train_loss = 6.183\n",
      "Epoch   3 Batch  131/138   train_loss = 6.338\n",
      "Epoch   3 Batch  136/138   train_loss = 6.066\n",
      "Epoch   4 Batch    3/138   train_loss = 6.231\n",
      "Epoch   4 Batch    8/138   train_loss = 6.016\n",
      "Epoch   4 Batch   13/138   train_loss = 6.186\n",
      "Epoch   4 Batch   18/138   train_loss = 6.335\n",
      "Epoch   4 Batch   23/138   train_loss = 6.272\n",
      "Epoch   4 Batch   28/138   train_loss = 6.255\n",
      "Epoch   4 Batch   33/138   train_loss = 6.421\n",
      "Epoch   4 Batch   38/138   train_loss = 6.223\n",
      "Epoch   4 Batch   43/138   train_loss = 6.155\n",
      "Epoch   4 Batch   48/138   train_loss = 5.916\n",
      "Epoch   4 Batch   53/138   train_loss = 6.239\n",
      "Epoch   4 Batch   58/138   train_loss = 6.249\n",
      "Epoch   4 Batch   63/138   train_loss = 6.005\n",
      "Epoch   4 Batch   68/138   train_loss = nan\n",
      "Epoch   4 Batch   73/138   train_loss = 6.348\n",
      "Epoch   4 Batch   78/138   train_loss = 6.411\n",
      "Epoch   4 Batch   83/138   train_loss = 6.276\n",
      "Epoch   4 Batch   88/138   train_loss = 6.459\n",
      "Epoch   4 Batch   93/138   train_loss = 6.376\n",
      "Epoch   4 Batch   98/138   train_loss = 6.337\n",
      "Epoch   4 Batch  103/138   train_loss = 6.380\n",
      "Epoch   4 Batch  108/138   train_loss = 6.852\n",
      "Epoch   4 Batch  113/138   train_loss = 6.430\n",
      "Epoch   4 Batch  118/138   train_loss = 6.043\n",
      "Epoch   4 Batch  123/138   train_loss = 6.601\n",
      "Epoch   4 Batch  128/138   train_loss = 6.398\n",
      "Epoch   4 Batch  133/138   train_loss = 6.164\n",
      "Epoch   5 Batch    0/138   train_loss = 6.109\n",
      "Epoch   5 Batch    5/138   train_loss = 6.249\n",
      "Epoch   5 Batch   10/138   train_loss = 6.173\n",
      "Epoch   5 Batch   15/138   train_loss = 6.133\n",
      "Epoch   5 Batch   20/138   train_loss = 6.177\n",
      "Epoch   5 Batch   25/138   train_loss = 6.111\n",
      "Epoch   5 Batch   30/138   train_loss = 6.123\n",
      "Epoch   5 Batch   35/138   train_loss = 5.916\n",
      "Epoch   5 Batch   40/138   train_loss = 6.114\n",
      "Epoch   5 Batch   45/138   train_loss = 6.036\n",
      "Epoch   5 Batch   50/138   train_loss = 6.142\n",
      "Epoch   5 Batch   55/138   train_loss = 5.836\n",
      "Epoch   5 Batch   60/138   train_loss = 6.401\n",
      "Epoch   5 Batch   65/138   train_loss = 6.259\n",
      "Epoch   5 Batch   70/138   train_loss = 6.687\n",
      "Epoch   5 Batch   75/138   train_loss = 6.598\n",
      "Epoch   5 Batch   80/138   train_loss = 6.398\n",
      "Epoch   5 Batch   85/138   train_loss = 6.366\n",
      "Epoch   5 Batch   90/138   train_loss = 6.464\n",
      "Epoch   5 Batch   95/138   train_loss = 6.485\n",
      "Epoch   5 Batch  100/138   train_loss = 6.307\n",
      "Epoch   5 Batch  105/138   train_loss = 6.494\n",
      "Epoch   5 Batch  110/138   train_loss = 6.556\n",
      "Epoch   5 Batch  115/138   train_loss = 6.583\n",
      "Epoch   5 Batch  120/138   train_loss = 6.444\n",
      "Epoch   5 Batch  125/138   train_loss = 6.704\n",
      "Epoch   5 Batch  130/138   train_loss = 6.667\n",
      "Epoch   5 Batch  135/138   train_loss = 5.915\n",
      "Epoch   6 Batch    2/138   train_loss = 5.988\n",
      "Epoch   6 Batch    7/138   train_loss = 6.460\n",
      "Epoch   6 Batch   12/138   train_loss = 5.966\n",
      "Epoch   6 Batch   17/138   train_loss = 6.316\n",
      "Epoch   6 Batch   22/138   train_loss = 6.277\n",
      "Epoch   6 Batch   27/138   train_loss = 6.217\n",
      "Epoch   6 Batch   32/138   train_loss = 6.332\n",
      "Epoch   6 Batch   37/138   train_loss = 5.985\n",
      "Epoch   6 Batch   42/138   train_loss = 6.366\n",
      "Epoch   6 Batch   47/138   train_loss = 5.935\n",
      "Epoch   6 Batch   52/138   train_loss = 6.003\n",
      "Epoch   6 Batch   57/138   train_loss = 6.246\n",
      "Epoch   6 Batch   62/138   train_loss = nan\n",
      "Epoch   6 Batch   67/138   train_loss = 6.217\n",
      "Epoch   6 Batch   72/138   train_loss = 6.297\n",
      "Epoch   6 Batch   77/138   train_loss = 6.393\n",
      "Epoch   6 Batch   82/138   train_loss = 6.241\n",
      "Epoch   6 Batch   87/138   train_loss = 6.288\n",
      "Epoch   6 Batch   92/138   train_loss = 6.239\n",
      "Epoch   6 Batch   97/138   train_loss = 6.429\n",
      "Epoch   6 Batch  102/138   train_loss = 6.401\n",
      "Epoch   6 Batch  107/138   train_loss = 6.394\n",
      "Epoch   6 Batch  112/138   train_loss = 6.448\n",
      "Epoch   6 Batch  117/138   train_loss = 6.590\n",
      "Epoch   6 Batch  122/138   train_loss = 6.373\n",
      "Epoch   6 Batch  127/138   train_loss = 6.506\n",
      "Epoch   6 Batch  132/138   train_loss = 6.392\n",
      "Epoch   6 Batch  137/138   train_loss = 5.912\n",
      "Epoch   7 Batch    4/138   train_loss = 6.221\n",
      "Epoch   7 Batch    9/138   train_loss = 6.109\n",
      "Epoch   7 Batch   14/138   train_loss = 5.994\n",
      "Epoch   7 Batch   19/138   train_loss = 6.027\n",
      "Epoch   7 Batch   24/138   train_loss = 6.132\n",
      "Epoch   7 Batch   29/138   train_loss = 6.335\n",
      "Epoch   7 Batch   34/138   train_loss = 6.378\n",
      "Epoch   7 Batch   39/138   train_loss = 6.149\n",
      "Epoch   7 Batch   44/138   train_loss = 6.168\n",
      "Epoch   7 Batch   49/138   train_loss = 5.986\n",
      "Epoch   7 Batch   54/138   train_loss = 6.390\n",
      "Epoch   7 Batch   59/138   train_loss = 6.233\n",
      "Epoch   7 Batch   64/138   train_loss = 6.364\n",
      "Epoch   7 Batch   69/138   train_loss = 6.548\n",
      "Epoch   7 Batch   74/138   train_loss = 6.385\n",
      "Epoch   7 Batch   79/138   train_loss = nan\n",
      "Epoch   7 Batch   84/138   train_loss = 6.475\n",
      "Epoch   7 Batch   89/138   train_loss = 6.395\n",
      "Epoch   7 Batch   94/138   train_loss = 6.292\n",
      "Epoch   7 Batch   99/138   train_loss = 6.710\n",
      "Epoch   7 Batch  104/138   train_loss = 6.387\n",
      "Epoch   7 Batch  109/138   train_loss = 6.424\n",
      "Epoch   7 Batch  114/138   train_loss = nan\n",
      "Epoch   7 Batch  119/138   train_loss = 6.281\n",
      "Epoch   7 Batch  124/138   train_loss = 6.160\n",
      "Epoch   7 Batch  129/138   train_loss = 6.383\n",
      "Epoch   7 Batch  134/138   train_loss = 6.323\n",
      "Epoch   8 Batch    1/138   train_loss = 5.900\n",
      "Epoch   8 Batch    6/138   train_loss = 6.147\n",
      "Epoch   8 Batch   11/138   train_loss = 6.040\n",
      "Epoch   8 Batch   16/138   train_loss = 5.979\n",
      "Epoch   8 Batch   21/138   train_loss = 6.083\n",
      "Epoch   8 Batch   26/138   train_loss = 5.934\n",
      "Epoch   8 Batch   31/138   train_loss = 5.958\n",
      "Epoch   8 Batch   36/138   train_loss = 6.013\n",
      "Epoch   8 Batch   41/138   train_loss = 6.289\n",
      "Epoch   8 Batch   46/138   train_loss = 6.294\n",
      "Epoch   8 Batch   51/138   train_loss = 5.897\n",
      "Epoch   8 Batch   56/138   train_loss = 6.055\n",
      "Epoch   8 Batch   61/138   train_loss = 6.326\n",
      "Epoch   8 Batch   66/138   train_loss = 6.275\n",
      "Epoch   8 Batch   71/138   train_loss = 6.356\n",
      "Epoch   8 Batch   76/138   train_loss = 6.011\n",
      "Epoch   8 Batch   81/138   train_loss = 6.190\n",
      "Epoch   8 Batch   86/138   train_loss = 6.544\n",
      "Epoch   8 Batch   91/138   train_loss = 6.257\n",
      "Epoch   8 Batch   96/138   train_loss = 6.398\n",
      "Epoch   8 Batch  101/138   train_loss = 6.773\n",
      "Epoch   8 Batch  106/138   train_loss = 6.421\n",
      "Epoch   8 Batch  111/138   train_loss = 6.301\n",
      "Epoch   8 Batch  116/138   train_loss = 6.716\n",
      "Epoch   8 Batch  121/138   train_loss = 6.503\n",
      "Epoch   8 Batch  126/138   train_loss = 6.237\n",
      "Epoch   8 Batch  131/138   train_loss = 6.433\n",
      "Epoch   8 Batch  136/138   train_loss = 6.094\n",
      "Epoch   9 Batch    3/138   train_loss = 6.365\n",
      "Epoch   9 Batch    8/138   train_loss = 6.065\n",
      "Epoch   9 Batch   13/138   train_loss = 6.274\n",
      "Epoch   9 Batch   18/138   train_loss = 6.371\n",
      "Epoch   9 Batch   23/138   train_loss = 6.354\n",
      "Epoch   9 Batch   28/138   train_loss = 6.317\n",
      "Epoch   9 Batch   33/138   train_loss = 6.488\n",
      "Epoch   9 Batch   38/138   train_loss = 6.387\n",
      "Epoch   9 Batch   43/138   train_loss = 6.206\n",
      "Epoch   9 Batch   48/138   train_loss = 5.950\n",
      "Epoch   9 Batch   53/138   train_loss = 6.316\n",
      "Epoch   9 Batch   58/138   train_loss = 6.290\n",
      "Epoch   9 Batch   63/138   train_loss = 6.138\n",
      "Epoch   9 Batch   68/138   train_loss = nan\n",
      "Epoch   9 Batch   73/138   train_loss = 6.505\n",
      "Epoch   9 Batch   78/138   train_loss = 6.417\n",
      "Epoch   9 Batch   83/138   train_loss = 6.378\n",
      "Epoch   9 Batch   88/138   train_loss = 6.574\n",
      "Epoch   9 Batch   93/138   train_loss = 6.413\n",
      "Epoch   9 Batch   98/138   train_loss = 6.389\n",
      "Epoch   9 Batch  103/138   train_loss = 6.518\n",
      "Epoch   9 Batch  108/138   train_loss = 6.925\n",
      "Epoch   9 Batch  113/138   train_loss = 6.503\n",
      "Epoch   9 Batch  118/138   train_loss = 6.109\n",
      "Epoch   9 Batch  123/138   train_loss = 6.610\n",
      "Epoch   9 Batch  128/138   train_loss = 6.424\n",
      "Epoch   9 Batch  133/138   train_loss = 6.439\n",
      "Epoch  10 Batch    0/138   train_loss = 6.188\n",
      "Epoch  10 Batch    5/138   train_loss = 6.446\n",
      "Epoch  10 Batch   10/138   train_loss = 6.387\n",
      "Epoch  10 Batch   15/138   train_loss = 6.283\n",
      "Epoch  10 Batch   20/138   train_loss = 6.255\n",
      "Epoch  10 Batch   25/138   train_loss = 6.316\n",
      "Epoch  10 Batch   30/138   train_loss = 6.195\n",
      "Epoch  10 Batch   35/138   train_loss = 5.997\n",
      "Epoch  10 Batch   40/138   train_loss = 6.312\n",
      "Epoch  10 Batch   45/138   train_loss = 6.103\n",
      "Epoch  10 Batch   50/138   train_loss = 6.229\n",
      "Epoch  10 Batch   55/138   train_loss = 6.017\n",
      "Epoch  10 Batch   60/138   train_loss = 6.473\n",
      "Epoch  10 Batch   65/138   train_loss = 6.322\n",
      "Epoch  10 Batch   70/138   train_loss = 6.710\n",
      "Epoch  10 Batch   75/138   train_loss = 6.696\n",
      "Epoch  10 Batch   80/138   train_loss = 6.464\n",
      "Epoch  10 Batch   85/138   train_loss = 6.475\n",
      "Epoch  10 Batch   90/138   train_loss = 6.506\n",
      "Epoch  10 Batch   95/138   train_loss = 6.644\n",
      "Epoch  10 Batch  100/138   train_loss = 6.424\n",
      "Epoch  10 Batch  105/138   train_loss = 6.575\n",
      "Epoch  10 Batch  110/138   train_loss = 6.637\n",
      "Epoch  10 Batch  115/138   train_loss = 6.673\n",
      "Epoch  10 Batch  120/138   train_loss = 6.491\n",
      "Epoch  10 Batch  125/138   train_loss = 6.703\n",
      "Epoch  10 Batch  130/138   train_loss = 6.749\n",
      "Epoch  10 Batch  135/138   train_loss = 6.016\n",
      "Epoch  11 Batch    2/138   train_loss = 6.031\n",
      "Epoch  11 Batch    7/138   train_loss = 6.521\n",
      "Epoch  11 Batch   12/138   train_loss = 6.095\n",
      "Epoch  11 Batch   17/138   train_loss = 6.381\n",
      "Epoch  11 Batch   22/138   train_loss = 6.382\n",
      "Epoch  11 Batch   27/138   train_loss = 6.234\n",
      "Epoch  11 Batch   32/138   train_loss = 6.467\n",
      "Epoch  11 Batch   37/138   train_loss = 6.129\n",
      "Epoch  11 Batch   42/138   train_loss = 6.446\n",
      "Epoch  11 Batch   47/138   train_loss = 6.024\n",
      "Epoch  11 Batch   52/138   train_loss = 6.105\n",
      "Epoch  11 Batch   57/138   train_loss = 6.261\n",
      "Epoch  11 Batch   62/138   train_loss = nan\n",
      "Epoch  11 Batch   67/138   train_loss = 6.302\n",
      "Epoch  11 Batch   72/138   train_loss = 6.478\n",
      "Epoch  11 Batch   77/138   train_loss = 6.527\n",
      "Epoch  11 Batch   82/138   train_loss = 6.341\n",
      "Epoch  11 Batch   87/138   train_loss = 6.407\n",
      "Epoch  11 Batch   92/138   train_loss = 6.371\n",
      "Epoch  11 Batch   97/138   train_loss = 6.566\n",
      "Epoch  11 Batch  102/138   train_loss = 6.535\n",
      "Epoch  11 Batch  107/138   train_loss = 6.549\n",
      "Epoch  11 Batch  112/138   train_loss = 6.515\n",
      "Epoch  11 Batch  117/138   train_loss = 6.653\n",
      "Epoch  11 Batch  122/138   train_loss = 6.649\n",
      "Epoch  11 Batch  127/138   train_loss = 6.643\n",
      "Epoch  11 Batch  132/138   train_loss = 6.458\n",
      "Epoch  11 Batch  137/138   train_loss = 5.926\n",
      "Epoch  12 Batch    4/138   train_loss = 6.304\n",
      "Epoch  12 Batch    9/138   train_loss = 6.203\n",
      "Epoch  12 Batch   14/138   train_loss = 6.129\n",
      "Epoch  12 Batch   19/138   train_loss = 6.103\n",
      "Epoch  12 Batch   24/138   train_loss = 6.284\n",
      "Epoch  12 Batch   29/138   train_loss = 6.475\n",
      "Epoch  12 Batch   34/138   train_loss = 6.575\n",
      "Epoch  12 Batch   39/138   train_loss = 6.316\n",
      "Epoch  12 Batch   44/138   train_loss = 6.263\n",
      "Epoch  12 Batch   49/138   train_loss = 6.183\n",
      "Epoch  12 Batch   54/138   train_loss = 6.475\n",
      "Epoch  12 Batch   59/138   train_loss = 6.286\n",
      "Epoch  12 Batch   64/138   train_loss = 6.441\n",
      "Epoch  12 Batch   69/138   train_loss = 6.637\n",
      "Epoch  12 Batch   74/138   train_loss = 6.526\n",
      "Epoch  12 Batch   79/138   train_loss = nan\n",
      "Epoch  12 Batch   84/138   train_loss = 6.568\n",
      "Epoch  12 Batch   89/138   train_loss = 6.716\n",
      "Epoch  12 Batch   94/138   train_loss = 6.477\n",
      "Epoch  12 Batch   99/138   train_loss = 6.884\n",
      "Epoch  12 Batch  104/138   train_loss = 6.576\n",
      "Epoch  12 Batch  109/138   train_loss = 6.659\n",
      "Epoch  12 Batch  114/138   train_loss = nan\n",
      "Epoch  12 Batch  119/138   train_loss = 6.528\n",
      "Epoch  12 Batch  124/138   train_loss = 6.426\n",
      "Epoch  12 Batch  129/138   train_loss = 6.661\n",
      "Epoch  12 Batch  134/138   train_loss = 6.595\n",
      "Epoch  13 Batch    1/138   train_loss = 6.131\n",
      "Epoch  13 Batch    6/138   train_loss = 6.366\n",
      "Epoch  13 Batch   11/138   train_loss = 6.270\n",
      "Epoch  13 Batch   16/138   train_loss = 6.132\n",
      "Epoch  13 Batch   21/138   train_loss = 6.220\n",
      "Epoch  13 Batch   26/138   train_loss = 6.157\n",
      "Epoch  13 Batch   31/138   train_loss = 6.168\n",
      "Epoch  13 Batch   36/138   train_loss = 6.262\n",
      "Epoch  13 Batch   41/138   train_loss = 6.472\n",
      "Epoch  13 Batch   46/138   train_loss = 6.401\n",
      "Epoch  13 Batch   51/138   train_loss = 5.999\n",
      "Epoch  13 Batch   56/138   train_loss = 6.208\n",
      "Epoch  13 Batch   61/138   train_loss = 6.491\n",
      "Epoch  13 Batch   66/138   train_loss = 6.447\n",
      "Epoch  13 Batch   71/138   train_loss = 6.543\n",
      "Epoch  13 Batch   76/138   train_loss = 6.112\n",
      "Epoch  13 Batch   81/138   train_loss = 6.346\n",
      "Epoch  13 Batch   86/138   train_loss = 6.668\n",
      "Epoch  13 Batch   91/138   train_loss = 6.478\n",
      "Epoch  13 Batch   96/138   train_loss = 6.672\n",
      "Epoch  13 Batch  101/138   train_loss = 7.027\n",
      "Epoch  13 Batch  106/138   train_loss = 6.630\n",
      "Epoch  13 Batch  111/138   train_loss = 6.501\n",
      "Epoch  13 Batch  116/138   train_loss = 6.833\n",
      "Epoch  13 Batch  121/138   train_loss = 6.727\n",
      "Epoch  13 Batch  126/138   train_loss = 6.412\n",
      "Epoch  13 Batch  131/138   train_loss = 6.649\n",
      "Epoch  13 Batch  136/138   train_loss = 6.315\n",
      "Epoch  14 Batch    3/138   train_loss = 6.632\n",
      "Epoch  14 Batch    8/138   train_loss = 6.320\n",
      "Epoch  14 Batch   13/138   train_loss = 6.621\n",
      "Epoch  14 Batch   18/138   train_loss = 6.648\n",
      "Epoch  14 Batch   23/138   train_loss = 6.530\n",
      "Epoch  14 Batch   28/138   train_loss = 6.602\n",
      "Epoch  14 Batch   33/138   train_loss = 6.622\n",
      "Epoch  14 Batch   38/138   train_loss = 6.594\n",
      "Epoch  14 Batch   43/138   train_loss = 6.350\n",
      "Epoch  14 Batch   48/138   train_loss = 6.105\n",
      "Epoch  14 Batch   53/138   train_loss = 6.483\n",
      "Epoch  14 Batch   58/138   train_loss = 6.471\n",
      "Epoch  14 Batch   63/138   train_loss = 6.232\n",
      "Epoch  14 Batch   68/138   train_loss = nan\n",
      "Epoch  14 Batch   73/138   train_loss = 6.639\n",
      "Epoch  14 Batch   78/138   train_loss = 6.744\n",
      "Epoch  14 Batch   83/138   train_loss = 6.517\n",
      "Epoch  14 Batch   88/138   train_loss = 6.662\n",
      "Epoch  14 Batch   93/138   train_loss = 6.614\n",
      "Epoch  14 Batch   98/138   train_loss = 6.543\n",
      "Epoch  14 Batch  103/138   train_loss = 6.617\n",
      "Epoch  14 Batch  108/138   train_loss = 7.070\n",
      "Epoch  14 Batch  113/138   train_loss = 6.668\n",
      "Epoch  14 Batch  118/138   train_loss = 6.471\n",
      "Epoch  14 Batch  123/138   train_loss = 6.748\n",
      "Epoch  14 Batch  128/138   train_loss = 6.597\n",
      "Epoch  14 Batch  133/138   train_loss = 6.578\n",
      "Epoch  15 Batch    0/138   train_loss = 6.575\n",
      "Epoch  15 Batch    5/138   train_loss = 6.686\n",
      "Epoch  15 Batch   10/138   train_loss = 6.523\n",
      "Epoch  15 Batch   15/138   train_loss = 6.548\n",
      "Epoch  15 Batch   20/138   train_loss = 6.554\n",
      "Epoch  15 Batch   25/138   train_loss = 6.438\n",
      "Epoch  15 Batch   30/138   train_loss = 6.449\n",
      "Epoch  15 Batch   35/138   train_loss = 6.283\n",
      "Epoch  15 Batch   40/138   train_loss = 6.448\n",
      "Epoch  15 Batch   45/138   train_loss = 6.296\n",
      "Epoch  15 Batch   50/138   train_loss = 6.300\n",
      "Epoch  15 Batch   55/138   train_loss = 6.266\n",
      "Epoch  15 Batch   60/138   train_loss = 6.524\n",
      "Epoch  15 Batch   65/138   train_loss = 6.409\n",
      "Epoch  15 Batch   70/138   train_loss = 6.960\n",
      "Epoch  15 Batch   75/138   train_loss = 6.966\n",
      "Epoch  15 Batch   80/138   train_loss = 6.672\n",
      "Epoch  15 Batch   85/138   train_loss = 6.746\n",
      "Epoch  15 Batch   90/138   train_loss = 6.839\n",
      "Epoch  15 Batch   95/138   train_loss = 6.920\n",
      "Epoch  15 Batch  100/138   train_loss = 6.731\n",
      "Epoch  15 Batch  105/138   train_loss = 6.931\n",
      "Epoch  15 Batch  110/138   train_loss = 6.944\n",
      "Epoch  15 Batch  115/138   train_loss = 6.905\n",
      "Epoch  15 Batch  120/138   train_loss = 6.735\n",
      "Epoch  15 Batch  125/138   train_loss = 7.035\n",
      "Epoch  15 Batch  130/138   train_loss = 6.977\n",
      "Epoch  15 Batch  135/138   train_loss = 6.394\n",
      "Epoch  16 Batch    2/138   train_loss = 6.333\n",
      "Epoch  16 Batch    7/138   train_loss = 6.769\n",
      "Epoch  16 Batch   12/138   train_loss = 6.544\n",
      "Epoch  16 Batch   17/138   train_loss = 6.808\n",
      "Epoch  16 Batch   22/138   train_loss = 6.766\n",
      "Epoch  16 Batch   27/138   train_loss = 6.563\n",
      "Epoch  16 Batch   32/138   train_loss = 6.751\n",
      "Epoch  16 Batch   37/138   train_loss = 6.392\n",
      "Epoch  16 Batch   42/138   train_loss = 6.735\n",
      "Epoch  16 Batch   47/138   train_loss = 6.482\n",
      "Epoch  16 Batch   52/138   train_loss = 6.509\n",
      "Epoch  16 Batch   57/138   train_loss = 6.609\n",
      "Epoch  16 Batch   62/138   train_loss = nan\n",
      "Epoch  16 Batch   67/138   train_loss = 6.789\n",
      "Epoch  16 Batch   72/138   train_loss = 6.724\n",
      "Epoch  16 Batch   77/138   train_loss = 6.868\n",
      "Epoch  16 Batch   82/138   train_loss = 6.755\n",
      "Epoch  16 Batch   87/138   train_loss = 6.624\n",
      "Epoch  16 Batch   92/138   train_loss = 6.663\n",
      "Epoch  16 Batch   97/138   train_loss = 6.879\n",
      "Epoch  16 Batch  102/138   train_loss = 6.954\n",
      "Epoch  16 Batch  107/138   train_loss = 6.885\n",
      "Epoch  16 Batch  112/138   train_loss = 6.731\n",
      "Epoch  16 Batch  117/138   train_loss = 6.920\n",
      "Epoch  16 Batch  122/138   train_loss = 6.814\n",
      "Epoch  16 Batch  127/138   train_loss = 6.910\n",
      "Epoch  16 Batch  132/138   train_loss = 6.822\n",
      "Epoch  16 Batch  137/138   train_loss = 6.266\n",
      "Epoch  17 Batch    4/138   train_loss = 6.689\n",
      "Epoch  17 Batch    9/138   train_loss = 6.653\n",
      "Epoch  17 Batch   14/138   train_loss = 6.462\n",
      "Epoch  17 Batch   19/138   train_loss = 6.310\n",
      "Epoch  17 Batch   24/138   train_loss = 6.717\n",
      "Epoch  17 Batch   29/138   train_loss = 6.936\n",
      "Epoch  17 Batch   34/138   train_loss = 6.890\n",
      "Epoch  17 Batch   39/138   train_loss = 6.674\n",
      "Epoch  17 Batch   44/138   train_loss = 6.556\n",
      "Epoch  17 Batch   49/138   train_loss = 6.683\n",
      "Epoch  17 Batch   54/138   train_loss = 6.917\n",
      "Epoch  17 Batch   59/138   train_loss = 6.659\n",
      "Epoch  17 Batch   64/138   train_loss = 6.734\n",
      "Epoch  17 Batch   69/138   train_loss = 7.017\n",
      "Epoch  17 Batch   74/138   train_loss = 6.858\n",
      "Epoch  17 Batch   79/138   train_loss = nan\n",
      "Epoch  17 Batch   84/138   train_loss = 6.770\n",
      "Epoch  17 Batch   89/138   train_loss = 6.880\n",
      "Epoch  17 Batch   94/138   train_loss = 6.802\n",
      "Epoch  17 Batch   99/138   train_loss = 7.103\n",
      "Epoch  17 Batch  104/138   train_loss = 6.933\n",
      "Epoch  17 Batch  109/138   train_loss = 6.924\n",
      "Epoch  17 Batch  114/138   train_loss = nan\n",
      "Epoch  17 Batch  119/138   train_loss = 6.836\n",
      "Epoch  17 Batch  124/138   train_loss = 6.657\n",
      "Epoch  17 Batch  129/138   train_loss = 6.895\n",
      "Epoch  17 Batch  134/138   train_loss = 6.841\n",
      "Epoch  18 Batch    1/138   train_loss = 6.444\n",
      "Epoch  18 Batch    6/138   train_loss = 6.695\n",
      "Epoch  18 Batch   11/138   train_loss = 6.742\n",
      "Epoch  18 Batch   16/138   train_loss = 6.514\n",
      "Epoch  18 Batch   21/138   train_loss = 6.466\n",
      "Epoch  18 Batch   26/138   train_loss = 6.604\n",
      "Epoch  18 Batch   31/138   train_loss = 6.531\n",
      "Epoch  18 Batch   36/138   train_loss = 6.758\n",
      "Epoch  18 Batch   41/138   train_loss = 6.822\n",
      "Epoch  18 Batch   46/138   train_loss = 6.802\n",
      "Epoch  18 Batch   51/138   train_loss = 6.463\n",
      "Epoch  18 Batch   56/138   train_loss = 6.534\n",
      "Epoch  18 Batch   61/138   train_loss = 6.784\n",
      "Epoch  18 Batch   66/138   train_loss = 6.753\n",
      "Epoch  18 Batch   71/138   train_loss = 6.942\n",
      "Epoch  18 Batch   76/138   train_loss = 6.431\n",
      "Epoch  18 Batch   81/138   train_loss = 6.476\n",
      "Epoch  18 Batch   86/138   train_loss = 6.966\n",
      "Epoch  18 Batch   91/138   train_loss = 6.759\n",
      "Epoch  18 Batch   96/138   train_loss = 7.062\n",
      "Epoch  18 Batch  101/138   train_loss = 7.174\n",
      "Epoch  18 Batch  106/138   train_loss = 7.017\n",
      "Epoch  18 Batch  111/138   train_loss = 6.742\n",
      "Epoch  18 Batch  116/138   train_loss = 7.182\n",
      "Epoch  18 Batch  121/138   train_loss = 6.937\n",
      "Epoch  18 Batch  126/138   train_loss = 6.729\n",
      "Epoch  18 Batch  131/138   train_loss = 6.946\n",
      "Epoch  18 Batch  136/138   train_loss = 6.649\n",
      "Epoch  19 Batch    3/138   train_loss = 6.846\n",
      "Epoch  19 Batch    8/138   train_loss = 6.505\n",
      "Epoch  19 Batch   13/138   train_loss = 7.001\n",
      "Epoch  19 Batch   18/138   train_loss = 6.956\n",
      "Epoch  19 Batch   23/138   train_loss = 6.924\n",
      "Epoch  19 Batch   28/138   train_loss = 6.800\n",
      "Epoch  19 Batch   33/138   train_loss = 7.055\n",
      "Epoch  19 Batch   38/138   train_loss = 6.747\n",
      "Epoch  19 Batch   43/138   train_loss = 6.727\n",
      "Epoch  19 Batch   48/138   train_loss = 6.515\n",
      "Epoch  19 Batch   53/138   train_loss = 6.589\n",
      "Epoch  19 Batch   58/138   train_loss = 6.853\n",
      "Epoch  19 Batch   63/138   train_loss = 6.573\n",
      "Epoch  19 Batch   68/138   train_loss = nan\n",
      "Epoch  19 Batch   73/138   train_loss = 6.896\n",
      "Epoch  19 Batch   78/138   train_loss = 6.963\n",
      "Epoch  19 Batch   83/138   train_loss = 6.807\n",
      "Epoch  19 Batch   88/138   train_loss = 6.995\n",
      "Epoch  19 Batch   93/138   train_loss = 7.086\n",
      "Epoch  19 Batch   98/138   train_loss = 6.826\n",
      "Epoch  19 Batch  103/138   train_loss = 6.915\n",
      "Epoch  19 Batch  108/138   train_loss = 7.408\n",
      "Epoch  19 Batch  113/138   train_loss = 7.101\n",
      "Epoch  19 Batch  118/138   train_loss = 6.737\n",
      "Epoch  19 Batch  123/138   train_loss = 7.022\n",
      "Epoch  19 Batch  128/138   train_loss = 6.888\n",
      "Epoch  19 Batch  133/138   train_loss = 6.915\n",
      "Model Trained and Saved\n"
     ]
    }
   ],
   "source": [
    "\"\"\"\n",
    "DON'T MODIFY ANYTHING IN THIS CELL\n",
    "\"\"\"\n",
    "batches = get_batches(int_text, batch_size, seq_length)\n",
    "\n",
    "with tf.Session(graph=train_graph) as sess:\n",
    "    sess.run(tf.global_variables_initializer())\n",
    "\n",
    "    for epoch_i in range(num_epochs):\n",
    "        state = sess.run(initial_state, {input_text: batches[0][0]})\n",
    "\n",
    "        for batch_i, (x, y) in enumerate(batches):\n",
    "            feed = {\n",
    "                input_text: x,\n",
    "                targets: y,\n",
    "                initial_state: state,\n",
    "                lr: learning_rate}\n",
    "            train_loss, state, _ = sess.run([cost, final_state, train_op], feed)\n",
    "\n",
    "            # Show every <show_every_n_batches> batches\n",
    "            if (epoch_i * len(batches) + batch_i) % show_every_n_batches == 0:\n",
    "                print('Epoch {:>3} Batch {:>4}/{}   train_loss = {:.3f}'.format(\n",
    "                    epoch_i,\n",
    "                    batch_i,\n",
    "                    len(batches),\n",
    "                    train_loss))\n",
    "\n",
    "    # Save Model\n",
    "    saver = tf.train.Saver()\n",
    "    saver.save(sess, save_dir)\n",
    "    print('Model Trained and Saved')"
   ]
  },
  {
   "cell_type": "markdown",
   "metadata": {
    "deletable": true,
    "editable": true
   },
   "source": [
    "## Save Parameters\n",
    "Save `seq_length` and `save_dir` for generating a new TV script."
   ]
  },
  {
   "cell_type": "code",
   "execution_count": 17,
   "metadata": {
    "collapsed": false,
    "deletable": true,
    "editable": true
   },
   "outputs": [],
   "source": [
    "\"\"\"\n",
    "DON'T MODIFY ANYTHING IN THIS CELL\n",
    "\"\"\"\n",
    "# Save parameters for checkpoint\n",
    "helper.save_params((seq_length, save_dir))"
   ]
  },
  {
   "cell_type": "markdown",
   "metadata": {
    "deletable": true,
    "editable": true
   },
   "source": [
    "# Checkpoint"
   ]
  },
  {
   "cell_type": "code",
   "execution_count": 18,
   "metadata": {
    "collapsed": false,
    "deletable": true,
    "editable": true
   },
   "outputs": [],
   "source": [
    "\"\"\"\n",
    "DON'T MODIFY ANYTHING IN THIS CELL\n",
    "\"\"\"\n",
    "import tensorflow as tf\n",
    "import numpy as np\n",
    "import helper\n",
    "import problem_unittests as tests\n",
    "\n",
    "_, vocab_to_int, int_to_vocab, token_dict = helper.load_preprocess()\n",
    "seq_length, load_dir = helper.load_params()"
   ]
  },
  {
   "cell_type": "markdown",
   "metadata": {
    "deletable": true,
    "editable": true
   },
   "source": [
    "## Implement Generate Functions\n",
    "### Get Tensors\n",
    "Get tensors from `loaded_graph` using the function [`get_tensor_by_name()`](https://www.tensorflow.org/api_docs/python/tf/Graph#get_tensor_by_name).  Get the tensors using the following names:\n",
    "- \"input:0\"\n",
    "- \"initial_state:0\"\n",
    "- \"final_state:0\"\n",
    "- \"probs:0\"\n",
    "\n",
    "Return the tensors in the following tuple `(InputTensor, InitialStateTensor, FinalStateTensor, ProbsTensor)` "
   ]
  },
  {
   "cell_type": "code",
   "execution_count": 19,
   "metadata": {
    "collapsed": false,
    "deletable": true,
    "editable": true
   },
   "outputs": [
    {
     "name": "stdout",
     "output_type": "stream",
     "text": [
      "Tests Passed\n"
     ]
    }
   ],
   "source": [
    "def get_tensors(loaded_graph):\n",
    "    \"\"\"\n",
    "    Get input, initial state, final state, and probabilities tensor from <loaded_graph>\n",
    "    :param loaded_graph: TensorFlow graph loaded from file\n",
    "    :return: Tuple (InputTensor, InitialStateTensor, FinalStateTensor, ProbsTensor)\n",
    "    \"\"\"\n",
    "    # TODO: Implement Function\n",
    "    Input=loaded_graph.get_tensor_by_name(\"input:0\")\n",
    "    InitialState=loaded_graph.get_tensor_by_name(\"initial_state:0\")\n",
    "    FinalState=loaded_graph.get_tensor_by_name(\"final_state:0\")\n",
    "    Probs=loaded_graph.get_tensor_by_name(\"probs:0\")\n",
    "    return Input, InitialState, FinalState, Probs\n",
    "\n",
    "\n",
    "\"\"\"\n",
    "DON'T MODIFY ANYTHING IN THIS CELL THAT IS BELOW THIS LINE\n",
    "\"\"\"\n",
    "tests.test_get_tensors(get_tensors)"
   ]
  },
  {
   "cell_type": "markdown",
   "metadata": {
    "deletable": true,
    "editable": true
   },
   "source": [
    "### Choose Word\n",
    "Implement the `pick_word()` function to select the next word using `probabilities`."
   ]
  },
  {
   "cell_type": "code",
   "execution_count": 20,
   "metadata": {
    "collapsed": false,
    "deletable": true,
    "editable": true
   },
   "outputs": [
    {
     "name": "stdout",
     "output_type": "stream",
     "text": [
      "Tests Passed\n"
     ]
    }
   ],
   "source": [
    "def pick_word(probabilities, int_to_vocab):\n",
    "    \"\"\"\n",
    "    Pick the next word in the generated text\n",
    "    :param probabilities: Probabilites of the next word\n",
    "    :param int_to_vocab: Dictionary of word ids as the keys and words as the values\n",
    "    :return: String of the predicted word\n",
    "    \"\"\"\n",
    "    # TODO: Implement Function\n",
    "    vocab_size=len(int_to_vocab)\n",
    "    top_n=5\n",
    "    p=np.squeeze(probabilities)\n",
    "    p[np.argsort(p)[:-top_n]] = 0\n",
    "    p = p / np.sum(p)\n",
    "    id_select=np.random.choice(vocab_size, 1, p=p)[0]\n",
    "    pred_word=int_to_vocab[id_select]\n",
    "#     print(pred_word)\n",
    "    return pred_word\n",
    "\n",
    "\n",
    "\"\"\"\n",
    "DON'T MODIFY ANYTHING IN THIS CELL THAT IS BELOW THIS LINE\n",
    "\"\"\"\n",
    "tests.test_pick_word(pick_word)"
   ]
  },
  {
   "cell_type": "markdown",
   "metadata": {
    "deletable": true,
    "editable": true
   },
   "source": [
    "## Generate TV Script\n",
    "This will generate the TV script for you.  Set `gen_length` to the length of TV script you want to generate."
   ]
  },
  {
   "cell_type": "code",
   "execution_count": 21,
   "metadata": {
    "collapsed": false,
    "deletable": true,
    "editable": true
   },
   "outputs": [
    {
     "name": "stdout",
     "output_type": "stream",
     "text": [
      "moe_szyslak:.),\n",
      ".\n",
      "\n",
      "you,,.,?, i..\n",
      ".\n",
      "\n",
      "(,,,..\n",
      ",.). the\n",
      "\n",
      "\n",
      "\n",
      ") moe_szyslak:.,\n",
      "\n",
      "moe_szyslak:\n",
      "!\n",
      "\n",
      "\n",
      "a moe_szyslak:\n",
      "!.\n",
      "\n",
      ",\n",
      ".) i\n",
      "\n",
      "\n",
      "\n",
      ",,.,(\n",
      ",.,!.\n",
      ",,\n",
      "moe_szyslak:,, the moe_szyslak:, the,, you,.\n",
      "..\n",
      ".\n",
      "homer_simpson:,,,,., the,,,.\n",
      ", i!\n",
      "the\n",
      "\n",
      "\n",
      "..,!. the.... you..\n",
      "\n",
      "homer_simpson:!.\n",
      "\n",
      "\n",
      "\n",
      "!\n",
      "\n",
      "),.,,.\n",
      "the,\n",
      ",!\n",
      "\n",
      "\n",
      ",\n",
      "...,...,,.\n",
      "\n",
      "\n",
      ".?\n",
      ". i,..,,,,,,.,,\n",
      "\n",
      "\n",
      ". homer_simpson:\n",
      "\n",
      "! the\n"
     ]
    }
   ],
   "source": [
    "gen_length = 200\n",
    "# homer_simpson, moe_szyslak, or Barney_Gumble\n",
    "prime_word = 'moe_szyslak'\n",
    "\n",
    "\"\"\"\n",
    "DON'T MODIFY ANYTHING IN THIS CELL THAT IS BELOW THIS LINE\n",
    "\"\"\"\n",
    "loaded_graph = tf.Graph()\n",
    "with tf.Session(graph=loaded_graph) as sess:\n",
    "    # Load saved model\n",
    "    loader = tf.train.import_meta_graph(load_dir + '.meta')\n",
    "    loader.restore(sess, load_dir)\n",
    "\n",
    "    # Get Tensors from loaded model\n",
    "    input_text, initial_state, final_state, probs = get_tensors(loaded_graph)\n",
    "\n",
    "    # Sentences generation setup\n",
    "    gen_sentences = [prime_word + ':']\n",
    "    prev_state = sess.run(initial_state, {input_text: np.array([[1]])})\n",
    "\n",
    "    # Generate sentences\n",
    "    for n in range(gen_length):\n",
    "        # Dynamic Input\n",
    "        dyn_input = [[vocab_to_int[word] for word in gen_sentences[-seq_length:]]]\n",
    "        dyn_seq_length = len(dyn_input[0])\n",
    "\n",
    "        # Get Prediction\n",
    "        probabilities, prev_state = sess.run(\n",
    "            [probs, final_state],\n",
    "            {input_text: dyn_input, initial_state: prev_state})\n",
    "        \n",
    "        pred_word = pick_word(probabilities[dyn_seq_length-1], int_to_vocab)\n",
    "\n",
    "        gen_sentences.append(pred_word)\n",
    "    \n",
    "    # Remove tokens\n",
    "    tv_script = ' '.join(gen_sentences)\n",
    "    for key, token in token_dict.items():\n",
    "        ending = ' ' if key in ['\\n', '(', '\"'] else ''\n",
    "        tv_script = tv_script.replace(' ' + token.lower(), key)\n",
    "    tv_script = tv_script.replace('\\n ', '\\n')\n",
    "    tv_script = tv_script.replace('( ', '(')\n",
    "        \n",
    "    print(tv_script)"
   ]
  },
  {
   "cell_type": "markdown",
   "metadata": {
    "deletable": true,
    "editable": true
   },
   "source": [
    "# The TV Script is Nonsensical\n",
    "It's ok if the TV script doesn't make any sense.  We trained on less than a megabyte of text.  In order to get good results, you'll have to use a smaller vocabulary or get more data.  Luckly there's more data!  As we mentioned in the begging of this project, this is a subset of [another dataset](https://www.kaggle.com/wcukierski/the-simpsons-by-the-data).  We didn't have you train on all the data, because that would take too long.  However, you are free to train your neural network on all the data.  After you complete the project, of course.\n",
    "# Submitting This Project\n",
    "When submitting this project, make sure to run all the cells before saving the notebook. Save the notebook file as \"dlnd_tv_script_generation.ipynb\" and save it as a HTML file under \"File\" -> \"Download as\". Include the \"helper.py\" and \"problem_unittests.py\" files in your submission."
   ]
  }
 ],
 "metadata": {
  "kernelspec": {
   "display_name": "Python 3",
   "language": "python",
   "name": "python3"
  },
  "language_info": {
   "codemirror_mode": {
    "name": "ipython",
    "version": 3
   },
   "file_extension": ".py",
   "mimetype": "text/x-python",
   "name": "python",
   "nbconvert_exporter": "python",
   "pygments_lexer": "ipython3",
   "version": "3.5.2"
  },
  "widgets": {
   "state": {},
   "version": "1.1.2"
  }
 },
 "nbformat": 4,
 "nbformat_minor": 0
}
