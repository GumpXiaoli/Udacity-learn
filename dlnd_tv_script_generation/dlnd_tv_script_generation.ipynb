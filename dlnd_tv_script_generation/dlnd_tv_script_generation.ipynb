{
 "cells": [
  {
   "cell_type": "markdown",
   "metadata": {
    "deletable": true,
    "editable": true
   },
   "source": [
    "# TV Script Generation\n",
    "In this project, you'll generate your own [Simpsons](https://en.wikipedia.org/wiki/The_Simpsons) TV scripts using RNNs.  You'll be using part of the [Simpsons dataset](https://www.kaggle.com/wcukierski/the-simpsons-by-the-data) of scripts from 27 seasons.  The Neural Network you'll build will generate a new TV script for a scene at [Moe's Tavern](https://simpsonswiki.com/wiki/Moe's_Tavern).\n",
    "## Get the Data\n",
    "The data is already provided for you.  You'll be using a subset of the original dataset.  It consists of only the scenes in Moe's Tavern.  This doesn't include other versions of the tavern, like \"Moe's Cavern\", \"Flaming Moe's\", \"Uncle Moe's Family Feed-Bag\", etc.."
   ]
  },
  {
   "cell_type": "code",
   "execution_count": 1,
   "metadata": {
    "collapsed": false,
    "deletable": true,
    "editable": true
   },
   "outputs": [],
   "source": [
    "\"\"\"\n",
    "DON'T MODIFY ANYTHING IN THIS CELL\n",
    "\"\"\"\n",
    "import helper\n",
    "\n",
    "data_dir = './data/simpsons/moes_tavern_lines.txt'\n",
    "text = helper.load_data(data_dir)\n",
    "# Ignore notice, since we don't use it for analysing the data\n",
    "text = text[81:]"
   ]
  },
  {
   "cell_type": "markdown",
   "metadata": {
    "deletable": true,
    "editable": true
   },
   "source": [
    "## Explore the Data\n",
    "Play around with `view_sentence_range` to view different parts of the data."
   ]
  },
  {
   "cell_type": "code",
   "execution_count": 2,
   "metadata": {
    "collapsed": false,
    "deletable": true,
    "editable": true
   },
   "outputs": [
    {
     "name": "stdout",
     "output_type": "stream",
     "text": [
      "Dataset Stats\n",
      "Roughly the number of unique words: 11492\n",
      "Number of scenes: 262\n",
      "Average number of sentences in each scene: 15.248091603053435\n",
      "Number of lines: 4257\n",
      "Average number of words in each line: 11.50434578341555\n",
      "\n",
      "The sentences 0 to 10:\n",
      "Moe_Szyslak: (INTO PHONE) Moe's Tavern. Where the elite meet to drink.\n",
      "Bart_Simpson: Eh, yeah, hello, is Mike there? Last name, Rotch.\n",
      "Moe_Szyslak: (INTO PHONE) Hold on, I'll check. (TO BARFLIES) Mike Rotch. Mike Rotch. Hey, has anybody seen Mike Rotch, lately?\n",
      "Moe_Szyslak: (INTO PHONE) Listen you little puke. One of these days I'm gonna catch you, and I'm gonna carve my name on your back with an ice pick.\n",
      "Moe_Szyslak: What's the matter Homer? You're not your normal effervescent self.\n",
      "Homer_Simpson: I got my problems, Moe. Give me another one.\n",
      "Moe_Szyslak: Homer, hey, you should not drink to forget your problems.\n",
      "Barney_Gumble: Yeah, you should only drink to enhance your social skills.\n",
      "\n",
      "\n"
     ]
    }
   ],
   "source": [
    "view_sentence_range = (0, 10)\n",
    "\n",
    "\"\"\"\n",
    "DON'T MODIFY ANYTHING IN THIS CELL\n",
    "\"\"\"\n",
    "import numpy as np\n",
    "\n",
    "print('Dataset Stats')\n",
    "print('Roughly the number of unique words: {}'.format(len({word: None for word in text.split()})))\n",
    "scenes = text.split('\\n\\n')\n",
    "print('Number of scenes: {}'.format(len(scenes)))\n",
    "sentence_count_scene = [scene.count('\\n') for scene in scenes]\n",
    "print('Average number of sentences in each scene: {}'.format(np.average(sentence_count_scene)))\n",
    "\n",
    "sentences = [sentence for scene in scenes for sentence in scene.split('\\n')]\n",
    "print('Number of lines: {}'.format(len(sentences)))\n",
    "word_count_sentence = [len(sentence.split()) for sentence in sentences]\n",
    "print('Average number of words in each line: {}'.format(np.average(word_count_sentence)))\n",
    "\n",
    "print()\n",
    "print('The sentences {} to {}:'.format(*view_sentence_range))\n",
    "print('\\n'.join(text.split('\\n')[view_sentence_range[0]:view_sentence_range[1]]))"
   ]
  },
  {
   "cell_type": "markdown",
   "metadata": {
    "deletable": true,
    "editable": true
   },
   "source": [
    "## Implement Preprocessing Functions\n",
    "The first thing to do to any dataset is preprocessing.  Implement the following preprocessing functions below:\n",
    "- Lookup Table\n",
    "- Tokenize Punctuation\n",
    "\n",
    "### Lookup Table\n",
    "To create a word embedding, you first need to transform the words to ids.  In this function, create two dictionaries:\n",
    "- Dictionary to go from the words to an id, we'll call `vocab_to_int`\n",
    "- Dictionary to go from the id to word, we'll call `int_to_vocab`\n",
    "\n",
    "Return these dictionaries in the following tuple `(vocab_to_int, int_to_vocab)`"
   ]
  },
  {
   "cell_type": "code",
   "execution_count": 3,
   "metadata": {
    "collapsed": false,
    "deletable": true,
    "editable": true
   },
   "outputs": [
    {
     "name": "stdout",
     "output_type": "stream",
     "text": [
      "Tests Passed\n"
     ]
    }
   ],
   "source": [
    "import numpy as np\n",
    "import problem_unittests as tests\n",
    "\n",
    "def create_lookup_tables(text):\n",
    "    \"\"\"\n",
    "    Create lookup tables for vocabulary\n",
    "    :param text: The text of tv scripts split into words\n",
    "    :return: A tuple of dicts (vocab_to_int, int_to_vocab)\n",
    "    \"\"\"\n",
    "    # TODO: Implement Function\n",
    "    vocab=set(text)\n",
    "    vocab_to_int = {word: ii for ii, word in enumerate(vocab)}\n",
    "    int_to_vocab={vocab_to_int[key]:key for key in vocab_to_int}\n",
    "    \n",
    "    return vocab_to_int, int_to_vocab\n",
    "\n",
    "\n",
    "\"\"\"\n",
    "DON'T MODIFY ANYTHING IN THIS CELL THAT IS BELOW THIS LINE\n",
    "\"\"\"\n",
    "tests.test_create_lookup_tables(create_lookup_tables)"
   ]
  },
  {
   "cell_type": "markdown",
   "metadata": {
    "deletable": true,
    "editable": true
   },
   "source": [
    "### Tokenize Punctuation\n",
    "We'll be splitting the script into a word array using spaces as delimiters.  However, punctuations like periods and exclamation marks make it hard for the neural network to distinguish between the word \"bye\" and \"bye!\".\n",
    "\n",
    "Implement the function `token_lookup` to return a dict that will be used to tokenize symbols like \"!\" into \"||Exclamation_Mark||\".  Create a dictionary for the following symbols where the symbol is the key and value is the token:\n",
    "- Period ( . )\n",
    "- Comma ( , )\n",
    "- Quotation Mark ( \" )\n",
    "- Semicolon ( ; )\n",
    "- Exclamation mark ( ! )\n",
    "- Question mark ( ? )\n",
    "- Left Parentheses ( ( )\n",
    "- Right Parentheses ( ) )\n",
    "- Dash ( -- )\n",
    "- Return ( \\n )\n",
    "\n",
    "This dictionary will be used to token the symbols and add the delimiter (space) around it.  This separates the symbols as it's own word, making it easier for the neural network to predict on the next word. Make sure you don't use a token that could be confused as a word. Instead of using the token \"dash\", try using something like \"||dash||\"."
   ]
  },
  {
   "cell_type": "code",
   "execution_count": 4,
   "metadata": {
    "collapsed": false,
    "deletable": true,
    "editable": true
   },
   "outputs": [
    {
     "name": "stdout",
     "output_type": "stream",
     "text": [
      "Tests Passed\n"
     ]
    }
   ],
   "source": [
    "def token_lookup():\n",
    "    \"\"\"\n",
    "    Generate a dict to turn punctuation into a token.\n",
    "    :return: Tokenize dictionary where the key is the punctuation and the value is the token\n",
    "    \"\"\"\n",
    "    # TODO: Implement Function\n",
    "    dic={}\n",
    "    dic['.']=\"||Period||\"\n",
    "    dic[',']=\"||Comma||\"\n",
    "    dic['\"']=\"||Quotation_Mark||\"\n",
    "    dic[';']=\"||Semicolon||\"\n",
    "    dic['!']=\"||Exclamation_Mark||\"\n",
    "    dic['?']=\"||Question_Mark||\"\n",
    "    dic['(']=\"||Left_Parentheses||\"\n",
    "    dic[')']=\"||Right_Parentheses||\"\n",
    "    dic['--']=\"||Dash||\"\n",
    "    dic['\\n']=\"||Return||\"\n",
    "    \n",
    "    return dic\n",
    "\n",
    "\"\"\"\n",
    "DON'T MODIFY ANYTHING IN THIS CELL THAT IS BELOW THIS LINE\n",
    "\"\"\"\n",
    "tests.test_tokenize(token_lookup)"
   ]
  },
  {
   "cell_type": "markdown",
   "metadata": {
    "deletable": true,
    "editable": true
   },
   "source": [
    "## Preprocess all the data and save it\n",
    "Running the code cell below will preprocess all the data and save it to file."
   ]
  },
  {
   "cell_type": "code",
   "execution_count": 5,
   "metadata": {
    "collapsed": false,
    "deletable": true,
    "editable": true
   },
   "outputs": [],
   "source": [
    "\"\"\"\n",
    "DON'T MODIFY ANYTHING IN THIS CELL\n",
    "\"\"\"\n",
    "# Preprocess Training, Validation, and Testing Data\n",
    "helper.preprocess_and_save_data(data_dir, token_lookup, create_lookup_tables)"
   ]
  },
  {
   "cell_type": "markdown",
   "metadata": {
    "deletable": true,
    "editable": true
   },
   "source": [
    "# Check Point\n",
    "This is your first checkpoint. If you ever decide to come back to this notebook or have to restart the notebook, you can start from here. The preprocessed data has been saved to disk."
   ]
  },
  {
   "cell_type": "code",
   "execution_count": 6,
   "metadata": {
    "collapsed": false,
    "deletable": true,
    "editable": true
   },
   "outputs": [],
   "source": [
    "\"\"\"\n",
    "DON'T MODIFY ANYTHING IN THIS CELL\n",
    "\"\"\"\n",
    "import helper\n",
    "import numpy as np\n",
    "import problem_unittests as tests\n",
    "\n",
    "int_text, vocab_to_int, int_to_vocab, token_dict = helper.load_preprocess()"
   ]
  },
  {
   "cell_type": "markdown",
   "metadata": {
    "deletable": true,
    "editable": true
   },
   "source": [
    "## Build the Neural Network\n",
    "You'll build the components necessary to build a RNN by implementing the following functions below:\n",
    "- get_inputs\n",
    "- get_init_cell\n",
    "- get_embed\n",
    "- build_rnn\n",
    "- build_nn\n",
    "- get_batches\n",
    "\n",
    "### Check the Version of TensorFlow and Access to GPU"
   ]
  },
  {
   "cell_type": "code",
   "execution_count": 7,
   "metadata": {
    "collapsed": false,
    "deletable": true,
    "editable": true
   },
   "outputs": [
    {
     "name": "stdout",
     "output_type": "stream",
     "text": [
      "TensorFlow Version: 1.0.0\n",
      "Default GPU Device: /gpu:0\n"
     ]
    }
   ],
   "source": [
    "\"\"\"\n",
    "DON'T MODIFY ANYTHING IN THIS CELL\n",
    "\"\"\"\n",
    "from distutils.version import LooseVersion\n",
    "import warnings\n",
    "import tensorflow as tf\n",
    "\n",
    "# Check TensorFlow Version\n",
    "assert LooseVersion(tf.__version__) >= LooseVersion('1.0'), 'Please use TensorFlow version 1.0 or newer'\n",
    "print('TensorFlow Version: {}'.format(tf.__version__))\n",
    "\n",
    "# Check for a GPU\n",
    "if not tf.test.gpu_device_name():\n",
    "    warnings.warn('No GPU found. Please use a GPU to train your neural network.')\n",
    "else:\n",
    "    print('Default GPU Device: {}'.format(tf.test.gpu_device_name()))"
   ]
  },
  {
   "cell_type": "markdown",
   "metadata": {
    "deletable": true,
    "editable": true
   },
   "source": [
    "### Input\n",
    "Implement the `get_inputs()` function to create TF Placeholders for the Neural Network.  It should create the following placeholders:\n",
    "- Input text placeholder named \"input\" using the [TF Placeholder](https://www.tensorflow.org/api_docs/python/tf/placeholder) `name` parameter.\n",
    "- Targets placeholder\n",
    "- Learning Rate placeholder\n",
    "\n",
    "Return the placeholders in the following tuple `(Input, Targets, LearningRate)`"
   ]
  },
  {
   "cell_type": "code",
   "execution_count": 8,
   "metadata": {
    "collapsed": false,
    "deletable": true,
    "editable": true
   },
   "outputs": [
    {
     "name": "stdout",
     "output_type": "stream",
     "text": [
      "Tests Passed\n"
     ]
    }
   ],
   "source": [
    "def get_inputs():\n",
    "    \"\"\"\n",
    "    Create TF Placeholders for input, targets, and learning rate.\n",
    "    :return: Tuple (input, targets, learning rate)\n",
    "    \"\"\"\n",
    "    # TODO: Implement Function\n",
    "    input_ = tf.placeholder(tf.int32, [None, None], name='input')\n",
    "    targets_ = tf.placeholder(tf.int32, [None, None], name='targets')\n",
    "    LearningRate = tf.placeholder(tf.float32, name='LearningRate')\n",
    "    \n",
    "    return input_, targets_, LearningRate\n",
    "\n",
    "\n",
    "\"\"\"\n",
    "DON'T MODIFY ANYTHING IN THIS CELL THAT IS BELOW THIS LINE\n",
    "\"\"\"\n",
    "tests.test_get_inputs(get_inputs)"
   ]
  },
  {
   "cell_type": "markdown",
   "metadata": {
    "deletable": true,
    "editable": true
   },
   "source": [
    "### Build RNN Cell and Initialize\n",
    "Stack one or more [`BasicLSTMCells`](https://www.tensorflow.org/api_docs/python/tf/contrib/rnn/BasicLSTMCell) in a [`MultiRNNCell`](https://www.tensorflow.org/api_docs/python/tf/contrib/rnn/MultiRNNCell).\n",
    "- The Rnn size should be set using `rnn_size`\n",
    "- Initalize Cell State using the MultiRNNCell's [`zero_state()`](https://www.tensorflow.org/api_docs/python/tf/contrib/rnn/MultiRNNCell#zero_state) function\n",
    "    - Apply the name \"initial_state\" to the initial state using [`tf.identity()`](https://www.tensorflow.org/api_docs/python/tf/identity)\n",
    "\n",
    "Return the cell and initial state in the following tuple `(Cell, InitialState)`"
   ]
  },
  {
   "cell_type": "code",
   "execution_count": 9,
   "metadata": {
    "collapsed": false,
    "deletable": true,
    "editable": true
   },
   "outputs": [
    {
     "name": "stdout",
     "output_type": "stream",
     "text": [
      "Tests Passed\n"
     ]
    }
   ],
   "source": [
    "def get_init_cell(batch_size, rnn_size):\n",
    "    \"\"\"\n",
    "    Create an RNN Cell and initialize it.\n",
    "    :param batch_size: Size of batches\n",
    "    :param rnn_size: Size of RNNs\n",
    "    :return: Tuple (cell, initialize state)\n",
    "    \"\"\"\n",
    "    # TODO: Implement Function\n",
    "#     lstm = tf.contrib.rnn.BasicLSTMCell(rnn_size)\n",
    "    \n",
    "#     drop = tf.contrib.rnn.DropoutWrapper(lstm, output_keep_prob=0.5)\n",
    "    \n",
    "#     # Stack up multiple LSTM layers, for deep learning\n",
    "#     cell = tf.contrib.rnn.MultiRNNCell([drop] * 1)\n",
    "    \n",
    "#     # Getting an initial state of all zeros\n",
    "#     initial_state = tf.identity(cell.zero_state(batch_size, tf.float32),name='initial_state')\n",
    "    \n",
    "    def make_lstm(rnn_size):\n",
    "        return tf.contrib.rnn.BasicLSTMCell(rnn_size)\n",
    "    \n",
    "    n_layers=2\n",
    "    cell = tf.contrib.rnn.MultiRNNCell([ make_lstm(rnn_size) for _ in range(n_layers)])\n",
    "    initial_state = cell.zero_state(batch_size, tf.float32)\n",
    "    initial_state = tf.identity(initial_state, name='initial_state')\n",
    "    return cell, initial_state\n",
    "\n",
    "\n",
    "\"\"\"\n",
    "DON'T MODIFY ANYTHING IN THIS CELL THAT IS BELOW THIS LINE\n",
    "\"\"\"\n",
    "tests.test_get_init_cell(get_init_cell)"
   ]
  },
  {
   "cell_type": "markdown",
   "metadata": {
    "deletable": true,
    "editable": true
   },
   "source": [
    "### Word Embedding\n",
    "Apply embedding to `input_data` using TensorFlow.  Return the embedded sequence."
   ]
  },
  {
   "cell_type": "code",
   "execution_count": 10,
   "metadata": {
    "collapsed": false,
    "deletable": true,
    "editable": true
   },
   "outputs": [
    {
     "name": "stdout",
     "output_type": "stream",
     "text": [
      "Tests Passed\n"
     ]
    }
   ],
   "source": [
    "def get_embed(input_data, vocab_size, embed_dim):\n",
    "    \"\"\"\n",
    "    Create embedding for <input_data>.\n",
    "    :param input_data: TF placeholder for text input.\n",
    "    :param vocab_size: Number of words in vocabulary.\n",
    "    :param embed_dim: Number of embedding dimensions\n",
    "    :return: Embedded input.\n",
    "    \"\"\"\n",
    "    # TODO: Implement Function\n",
    "    embedding = tf.Variable(tf.random_uniform((vocab_size, embed_dim), -1, 1))\n",
    "    embed = tf.nn.embedding_lookup(embedding, input_data)\n",
    "    \n",
    "    return embed\n",
    "\n",
    "\n",
    "\"\"\"\n",
    "DON'T MODIFY ANYTHING IN THIS CELL THAT IS BELOW THIS LINE\n",
    "\"\"\"\n",
    "tests.test_get_embed(get_embed)"
   ]
  },
  {
   "cell_type": "markdown",
   "metadata": {
    "deletable": true,
    "editable": true
   },
   "source": [
    "### Build RNN\n",
    "You created a RNN Cell in the `get_init_cell()` function.  Time to use the cell to create a RNN.\n",
    "- Build the RNN using the [`tf.nn.dynamic_rnn()`](https://www.tensorflow.org/api_docs/python/tf/nn/dynamic_rnn)\n",
    " - Apply the name \"final_state\" to the final state using [`tf.identity()`](https://www.tensorflow.org/api_docs/python/tf/identity)\n",
    "\n",
    "Return the outputs and final_state state in the following tuple `(Outputs, FinalState)` "
   ]
  },
  {
   "cell_type": "code",
   "execution_count": 11,
   "metadata": {
    "collapsed": false,
    "deletable": true,
    "editable": true
   },
   "outputs": [
    {
     "name": "stdout",
     "output_type": "stream",
     "text": [
      "Tests Passed\n"
     ]
    }
   ],
   "source": [
    "def build_rnn(cell, inputs):\n",
    "    \"\"\"\n",
    "    Create a RNN using a RNN Cell\n",
    "    :param cell: RNN Cell\n",
    "    :param inputs: Input text data\n",
    "    :return: Tuple (Outputs, Final State)\n",
    "    \"\"\"\n",
    "    # TODO: Implement Function\n",
    "    outputs, final_state = tf.nn.dynamic_rnn(cell,dtype=tf.float32,inputs=inputs)\n",
    "    final_state_=tf.identity(final_state,name='final_state')\n",
    "    return outputs, final_state_\n",
    "\n",
    "\n",
    "\"\"\"\n",
    "DON'T MODIFY ANYTHING IN THIS CELL THAT IS BELOW THIS LINE\n",
    "\"\"\"\n",
    "tests.test_build_rnn(build_rnn)"
   ]
  },
  {
   "cell_type": "markdown",
   "metadata": {
    "deletable": true,
    "editable": true
   },
   "source": [
    "### Build the Neural Network\n",
    "Apply the functions you implemented above to:\n",
    "- Apply embedding to `input_data` using your `get_embed(input_data, vocab_size, embed_dim)` function.\n",
    "- Build RNN using `cell` and your `build_rnn(cell, inputs)` function.\n",
    "- Apply a fully connected layer with a linear activation and `vocab_size` as the number of outputs.\n",
    "\n",
    "Return the logits and final state in the following tuple (Logits, FinalState) "
   ]
  },
  {
   "cell_type": "code",
   "execution_count": 12,
   "metadata": {
    "collapsed": false,
    "deletable": true,
    "editable": true
   },
   "outputs": [
    {
     "name": "stdout",
     "output_type": "stream",
     "text": [
      "Tests Passed\n"
     ]
    }
   ],
   "source": [
    "def build_nn(cell, rnn_size, input_data, vocab_size, embed_dim):\n",
    "    \"\"\"\n",
    "    Build part of the neural network\n",
    "    :param cell: RNN cell\n",
    "    :param rnn_size: Size of rnns\n",
    "    :param input_data: Input data\n",
    "    :param vocab_size: Vocabulary size\n",
    "    :param embed_dim: Number of embedding dimensions\n",
    "    :return: Tuple (Logits, FinalState)\n",
    "    \"\"\"\n",
    "    # TODO: Implement Function\n",
    "    embed=get_embed(input_data, vocab_size, embed_dim)\n",
    "    lstm_output,final_state=build_rnn(cell, embed)\n",
    "    logits=tf.contrib.layers.fully_connected(lstm_output, vocab_size, activation_fn=None)\n",
    "    return logits, final_state\n",
    "    \n",
    "\n",
    "\"\"\"\n",
    "DON'T MODIFY ANYTHING IN THIS CELL THAT IS BELOW THIS LINE\n",
    "\"\"\"\n",
    "tests.test_build_nn(build_nn)"
   ]
  },
  {
   "cell_type": "markdown",
   "metadata": {
    "deletable": true,
    "editable": true
   },
   "source": [
    "### Batches\n",
    "Implement `get_batches` to create batches of input and targets using `int_text`.  The batches should be a Numpy array with the shape `(number of batches, 2, batch size, sequence length)`. Each batch contains two elements:\n",
    "- The first element is a single batch of **input** with the shape `[batch size, sequence length]`\n",
    "- The second element is a single batch of **targets** with the shape `[batch size, sequence length]`\n",
    "\n",
    "If you can't fill the last batch with enough data, drop the last batch.\n",
    "\n",
    "For exmple, `get_batches([1, 2, 3, 4, 5, 6, 7, 8, 9, 10, 11, 12, 13, 14, 15], 2, 3)` would return a Numpy array of the following:\n",
    "```\n",
    "[\n",
    "  # First Batch\n",
    "  [\n",
    "    # Batch of Input\n",
    "    [[ 1  2  3], [ 7  8  9]],\n",
    "    # Batch of targets\n",
    "    [[ 2  3  4], [ 8  9 10]]\n",
    "  ],\n",
    " \n",
    "  # Second Batch\n",
    "  [\n",
    "    # Batch of Input\n",
    "    [[ 4  5  6], [10 11 12]],\n",
    "    # Batch of targets\n",
    "    [[ 5  6  7], [11 12 13]]\n",
    "  ]\n",
    "]\n",
    "```"
   ]
  },
  {
   "cell_type": "code",
   "execution_count": 17,
   "metadata": {
    "collapsed": false,
    "deletable": true,
    "editable": true
   },
   "outputs": [
    {
     "name": "stdout",
     "output_type": "stream",
     "text": [
      "Tests Passed\n"
     ]
    }
   ],
   "source": [
    "def get_batches(int_text, batch_size, seq_length):\n",
    "    \"\"\"\n",
    "    Return batches of input and target\n",
    "    :param int_text: Text with the words replaced by their ids\n",
    "    :param batch_size: The size of batch\n",
    "    :param seq_length: The length of sequence\n",
    "    :return: Batches as a Numpy array\n",
    "    \"\"\"\n",
    "    # TODO: Implement Function\n",
    "    words_per_batch = batch_size * seq_length\n",
    "    n_batches=len(int_text)//words_per_batch\n",
    "    \n",
    "    data_batches=np.zeros((n_batches,2,batch_size,seq_length),dtype=np.array(int_text).dtype)\n",
    "    inputs = np.array(int_text[:n_batches * words_per_batch]).reshape((batch_size, -1))\n",
    "    if(n_batches * words_per_batch<len(int_text)):\n",
    "        targets = np.array(int_text[1:n_batches * words_per_batch + 1]).reshape((batch_size, -1))\n",
    "    else:\n",
    "        targets = np.array(int_text[1:n_batches * words_per_batch].append(0)).reshape((batch_size, -1))\n",
    "    \n",
    "    for n in range(n_batches):\n",
    "        id_start=n * seq_length\n",
    "        data_batches[n,0,:,:] = inputs[:, id_start:id_start + seq_length]\n",
    "        data_batches[n,1,:,:] = targets[:, id_start:id_start + seq_length]\n",
    "        \n",
    "    return data_batches\n",
    "\n",
    "\n",
    "\"\"\"\n",
    "DON'T MODIFY ANYTHING IN THIS CELL THAT IS BELOW THIS LINE\n",
    "\"\"\"\n",
    "tests.test_get_batches(get_batches)"
   ]
  },
  {
   "cell_type": "markdown",
   "metadata": {
    "deletable": true,
    "editable": true
   },
   "source": [
    "## Neural Network Training\n",
    "### Hyperparameters\n",
    "Tune the following parameters:\n",
    "\n",
    "- Set `num_epochs` to the number of epochs.\n",
    "- Set `batch_size` to the batch size.\n",
    "- Set `rnn_size` to the size of the RNNs.\n",
    "- Set `embed_dim` to the size of the embedding.\n",
    "- Set `seq_length` to the length of sequence.\n",
    "- Set `learning_rate` to the learning rate.\n",
    "- Set `show_every_n_batches` to the number of batches the neural network should print progress."
   ]
  },
  {
   "cell_type": "code",
   "execution_count": 21,
   "metadata": {
    "collapsed": true,
    "deletable": true,
    "editable": true
   },
   "outputs": [],
   "source": [
    "# Number of Epochs\n",
    "num_epochs = 200\n",
    "# Batch Size\n",
    "batch_size = 64\n",
    "# RNN Size\n",
    "rnn_size = 512\n",
    "# Embedding Dimension Size\n",
    "embed_dim = 300\n",
    "# Sequence Length\n",
    "seq_length = 12\n",
    "# Learning Rate\n",
    "learning_rate = 0.001\n",
    "# Show stats for every n number of batches\n",
    "show_every_n_batches = 50\n",
    "\n",
    "\"\"\"\n",
    "DON'T MODIFY ANYTHING IN THIS CELL THAT IS BELOW THIS LINE\n",
    "\"\"\"\n",
    "save_dir = './save'"
   ]
  },
  {
   "cell_type": "markdown",
   "metadata": {
    "deletable": true,
    "editable": true
   },
   "source": [
    "### Build the Graph\n",
    "Build the graph using the neural network you implemented."
   ]
  },
  {
   "cell_type": "code",
   "execution_count": 19,
   "metadata": {
    "collapsed": false,
    "deletable": true,
    "editable": true
   },
   "outputs": [],
   "source": [
    "\"\"\"\n",
    "DON'T MODIFY ANYTHING IN THIS CELL\n",
    "\"\"\"\n",
    "from tensorflow.contrib import seq2seq\n",
    "\n",
    "train_graph = tf.Graph()\n",
    "with train_graph.as_default():\n",
    "    vocab_size = len(int_to_vocab)\n",
    "    input_text, targets, lr = get_inputs()\n",
    "    input_data_shape = tf.shape(input_text)\n",
    "    cell, initial_state = get_init_cell(input_data_shape[0], rnn_size)\n",
    "    logits, final_state = build_nn(cell, rnn_size, input_text, vocab_size, embed_dim)\n",
    "\n",
    "    # Probabilities for generating words\n",
    "    probs = tf.nn.softmax(logits, name='probs')\n",
    "\n",
    "    # Loss function\n",
    "    cost = seq2seq.sequence_loss(\n",
    "        logits,\n",
    "        targets,\n",
    "        tf.ones([input_data_shape[0], input_data_shape[1]]))\n",
    "\n",
    "    # Optimizer\n",
    "    optimizer = tf.train.AdamOptimizer(lr)\n",
    "\n",
    "    # Gradient Clipping\n",
    "    gradients = optimizer.compute_gradients(cost)\n",
    "    capped_gradients = [(tf.clip_by_value(grad, -1., 1.), var) for grad, var in gradients if grad is not None]\n",
    "    train_op = optimizer.apply_gradients(capped_gradients)"
   ]
  },
  {
   "cell_type": "markdown",
   "metadata": {
    "deletable": true,
    "editable": true
   },
   "source": [
    "## Train\n",
    "Train the neural network on the preprocessed data.  If you have a hard time getting a good loss, check the [forms](https://discussions.udacity.com/) to see if anyone is having the same problem."
   ]
  },
  {
   "cell_type": "code",
   "execution_count": 22,
   "metadata": {
    "collapsed": false,
    "deletable": true,
    "editable": true
   },
   "outputs": [
    {
     "name": "stdout",
     "output_type": "stream",
     "text": [
      "Epoch   0 Batch    0/89   train_loss = 8.823\n",
      "Epoch   0 Batch   50/89   train_loss = 6.426\n",
      "Epoch   1 Batch   11/89   train_loss = 6.197\n",
      "Epoch   1 Batch   61/89   train_loss = 6.172\n",
      "Epoch   2 Batch   22/89   train_loss = 5.784\n",
      "Epoch   2 Batch   72/89   train_loss = 5.796\n",
      "Epoch   3 Batch   33/89   train_loss = 5.350\n",
      "Epoch   3 Batch   83/89   train_loss = 5.445\n",
      "Epoch   4 Batch   44/89   train_loss = 5.074\n",
      "Epoch   5 Batch    5/89   train_loss = 5.001\n",
      "Epoch   5 Batch   55/89   train_loss = 5.086\n",
      "Epoch   6 Batch   16/89   train_loss = 4.807\n",
      "Epoch   6 Batch   66/89   train_loss = 4.744\n",
      "Epoch   7 Batch   27/89   train_loss = 4.610\n",
      "Epoch   7 Batch   77/89   train_loss = 4.671\n",
      "Epoch   8 Batch   38/89   train_loss = 4.353\n",
      "Epoch   8 Batch   88/89   train_loss = 4.419\n",
      "Epoch   9 Batch   49/89   train_loss = 4.266\n",
      "Epoch  10 Batch   10/89   train_loss = 4.071\n",
      "Epoch  10 Batch   60/89   train_loss = 4.147\n",
      "Epoch  11 Batch   21/89   train_loss = 3.822\n",
      "Epoch  11 Batch   71/89   train_loss = 3.995\n",
      "Epoch  12 Batch   32/89   train_loss = 3.800\n",
      "Epoch  12 Batch   82/89   train_loss = 3.890\n",
      "Epoch  13 Batch   43/89   train_loss = 3.859\n",
      "Epoch  14 Batch    4/89   train_loss = 3.740\n",
      "Epoch  14 Batch   54/89   train_loss = 3.679\n",
      "Epoch  15 Batch   15/89   train_loss = 3.531\n",
      "Epoch  15 Batch   65/89   train_loss = 3.586\n",
      "Epoch  16 Batch   26/89   train_loss = 3.497\n",
      "Epoch  16 Batch   76/89   train_loss = 3.509\n",
      "Epoch  17 Batch   37/89   train_loss = 3.417\n",
      "Epoch  17 Batch   87/89   train_loss = 3.146\n",
      "Epoch  18 Batch   48/89   train_loss = 3.125\n",
      "Epoch  19 Batch    9/89   train_loss = 3.110\n",
      "Epoch  19 Batch   59/89   train_loss = 2.891\n",
      "Epoch  20 Batch   20/89   train_loss = 2.892\n",
      "Epoch  20 Batch   70/89   train_loss = 2.876\n",
      "Epoch  21 Batch   31/89   train_loss = 2.751\n",
      "Epoch  21 Batch   81/89   train_loss = 2.542\n",
      "Epoch  22 Batch   42/89   train_loss = 2.577\n",
      "Epoch  23 Batch    3/89   train_loss = 2.629\n",
      "Epoch  23 Batch   53/89   train_loss = 2.291\n",
      "Epoch  24 Batch   14/89   train_loss = 2.305\n",
      "Epoch  24 Batch   64/89   train_loss = 2.231\n",
      "Epoch  25 Batch   25/89   train_loss = 2.310\n",
      "Epoch  25 Batch   75/89   train_loss = 2.207\n",
      "Epoch  26 Batch   36/89   train_loss = 1.898\n",
      "Epoch  26 Batch   86/89   train_loss = 1.789\n",
      "Epoch  27 Batch   47/89   train_loss = 1.899\n",
      "Epoch  28 Batch    8/89   train_loss = 1.694\n",
      "Epoch  28 Batch   58/89   train_loss = 1.607\n",
      "Epoch  29 Batch   19/89   train_loss = 1.675\n",
      "Epoch  29 Batch   69/89   train_loss = 1.453\n",
      "Epoch  30 Batch   30/89   train_loss = 1.473\n",
      "Epoch  30 Batch   80/89   train_loss = 1.303\n",
      "Epoch  31 Batch   41/89   train_loss = 1.338\n",
      "Epoch  32 Batch    2/89   train_loss = 1.162\n",
      "Epoch  32 Batch   52/89   train_loss = 1.321\n",
      "Epoch  33 Batch   13/89   train_loss = 1.320\n",
      "Epoch  33 Batch   63/89   train_loss = 1.110\n",
      "Epoch  34 Batch   24/89   train_loss = 0.960\n",
      "Epoch  34 Batch   74/89   train_loss = 0.934\n",
      "Epoch  35 Batch   35/89   train_loss = 0.944\n",
      "Epoch  35 Batch   85/89   train_loss = 0.796\n",
      "Epoch  36 Batch   46/89   train_loss = 0.792\n",
      "Epoch  37 Batch    7/89   train_loss = 0.705\n",
      "Epoch  37 Batch   57/89   train_loss = 0.667\n",
      "Epoch  38 Batch   18/89   train_loss = 0.631\n",
      "Epoch  38 Batch   68/89   train_loss = 0.638\n",
      "Epoch  39 Batch   29/89   train_loss = 0.651\n",
      "Epoch  39 Batch   79/89   train_loss = 0.526\n",
      "Epoch  40 Batch   40/89   train_loss = 0.593\n",
      "Epoch  41 Batch    1/89   train_loss = 0.568\n",
      "Epoch  41 Batch   51/89   train_loss = 0.529\n",
      "Epoch  42 Batch   12/89   train_loss = 0.481\n",
      "Epoch  42 Batch   62/89   train_loss = 0.500\n",
      "Epoch  43 Batch   23/89   train_loss = 0.494\n",
      "Epoch  43 Batch   73/89   train_loss = 0.457\n",
      "Epoch  44 Batch   34/89   train_loss = 0.457\n",
      "Epoch  44 Batch   84/89   train_loss = 0.432\n",
      "Epoch  45 Batch   45/89   train_loss = 0.515\n",
      "Epoch  46 Batch    6/89   train_loss = 0.421\n",
      "Epoch  46 Batch   56/89   train_loss = 0.380\n",
      "Epoch  47 Batch   17/89   train_loss = 0.408\n",
      "Epoch  47 Batch   67/89   train_loss = 0.424\n",
      "Epoch  48 Batch   28/89   train_loss = 0.372\n",
      "Epoch  48 Batch   78/89   train_loss = 0.302\n",
      "Epoch  49 Batch   39/89   train_loss = 0.373\n",
      "Epoch  50 Batch    0/89   train_loss = 0.375\n",
      "Epoch  50 Batch   50/89   train_loss = 0.336\n",
      "Epoch  51 Batch   11/89   train_loss = 0.359\n",
      "Epoch  51 Batch   61/89   train_loss = 0.357\n",
      "Epoch  52 Batch   22/89   train_loss = 0.391\n",
      "Epoch  52 Batch   72/89   train_loss = 0.332\n",
      "Epoch  53 Batch   33/89   train_loss = 0.371\n",
      "Epoch  53 Batch   83/89   train_loss = 0.379\n",
      "Epoch  54 Batch   44/89   train_loss = 0.334\n",
      "Epoch  55 Batch    5/89   train_loss = 0.325\n",
      "Epoch  55 Batch   55/89   train_loss = 0.356\n",
      "Epoch  56 Batch   16/89   train_loss = 0.351\n",
      "Epoch  56 Batch   66/89   train_loss = 0.368\n",
      "Epoch  57 Batch   27/89   train_loss = 0.325\n",
      "Epoch  57 Batch   77/89   train_loss = 0.305\n",
      "Epoch  58 Batch   38/89   train_loss = 0.302\n",
      "Epoch  58 Batch   88/89   train_loss = 0.339\n",
      "Epoch  59 Batch   49/89   train_loss = 0.303\n",
      "Epoch  60 Batch   10/89   train_loss = 0.353\n",
      "Epoch  60 Batch   60/89   train_loss = 0.377\n",
      "Epoch  61 Batch   21/89   train_loss = 0.313\n",
      "Epoch  61 Batch   71/89   train_loss = 0.307\n",
      "Epoch  62 Batch   32/89   train_loss = 0.321\n",
      "Epoch  62 Batch   82/89   train_loss = 0.334\n",
      "Epoch  63 Batch   43/89   train_loss = 0.313\n",
      "Epoch  64 Batch    4/89   train_loss = 0.302\n",
      "Epoch  64 Batch   54/89   train_loss = 0.358\n",
      "Epoch  65 Batch   15/89   train_loss = 0.358\n",
      "Epoch  65 Batch   65/89   train_loss = 0.302\n",
      "Epoch  66 Batch   26/89   train_loss = 0.316\n",
      "Epoch  66 Batch   76/89   train_loss = 0.338\n",
      "Epoch  67 Batch   37/89   train_loss = 0.339\n",
      "Epoch  67 Batch   87/89   train_loss = 0.299\n",
      "Epoch  68 Batch   48/89   train_loss = 0.308\n",
      "Epoch  69 Batch    9/89   train_loss = 0.319\n",
      "Epoch  69 Batch   59/89   train_loss = 0.332\n",
      "Epoch  70 Batch   20/89   train_loss = 0.324\n",
      "Epoch  70 Batch   70/89   train_loss = 0.349\n",
      "Epoch  71 Batch   31/89   train_loss = 0.302\n",
      "Epoch  71 Batch   81/89   train_loss = 0.304\n",
      "Epoch  72 Batch   42/89   train_loss = 0.338\n",
      "Epoch  73 Batch    3/89   train_loss = 0.365\n",
      "Epoch  73 Batch   53/89   train_loss = 0.299\n",
      "Epoch  74 Batch   14/89   train_loss = 0.261\n",
      "Epoch  74 Batch   64/89   train_loss = 0.319\n",
      "Epoch  75 Batch   25/89   train_loss = 0.308\n",
      "Epoch  75 Batch   75/89   train_loss = 0.311\n",
      "Epoch  76 Batch   36/89   train_loss = 0.310\n",
      "Epoch  76 Batch   86/89   train_loss = 0.316\n",
      "Epoch  77 Batch   47/89   train_loss = 0.319\n",
      "Epoch  78 Batch    8/89   train_loss = 0.342\n",
      "Epoch  78 Batch   58/89   train_loss = 0.323\n",
      "Epoch  79 Batch   19/89   train_loss = 0.314\n",
      "Epoch  79 Batch   69/89   train_loss = 0.303\n",
      "Epoch  80 Batch   30/89   train_loss = 0.281\n",
      "Epoch  80 Batch   80/89   train_loss = 0.293\n",
      "Epoch  81 Batch   41/89   train_loss = 0.309\n",
      "Epoch  82 Batch    2/89   train_loss = 0.294\n",
      "Epoch  82 Batch   52/89   train_loss = 0.361\n",
      "Epoch  83 Batch   13/89   train_loss = 0.361\n",
      "Epoch  83 Batch   63/89   train_loss = 0.321\n",
      "Epoch  84 Batch   24/89   train_loss = 0.299\n",
      "Epoch  84 Batch   74/89   train_loss = 0.349\n",
      "Epoch  85 Batch   35/89   train_loss = 0.321\n",
      "Epoch  85 Batch   85/89   train_loss = 0.468\n",
      "Epoch  86 Batch   46/89   train_loss = 0.587\n",
      "Epoch  87 Batch    7/89   train_loss = 0.608\n",
      "Epoch  87 Batch   57/89   train_loss = 0.425\n",
      "Epoch  88 Batch   18/89   train_loss = 0.372\n",
      "Epoch  88 Batch   68/89   train_loss = 0.337\n",
      "Epoch  89 Batch   29/89   train_loss = 0.354\n",
      "Epoch  89 Batch   79/89   train_loss = 0.274\n",
      "Epoch  90 Batch   40/89   train_loss = 0.323\n",
      "Epoch  91 Batch    1/89   train_loss = 0.315\n",
      "Epoch  91 Batch   51/89   train_loss = 0.322\n",
      "Epoch  92 Batch   12/89   train_loss = 0.307\n",
      "Epoch  92 Batch   62/89   train_loss = 0.319\n",
      "Epoch  93 Batch   23/89   train_loss = 0.316\n",
      "Epoch  93 Batch   73/89   train_loss = 0.297\n",
      "Epoch  94 Batch   34/89   train_loss = 0.328\n",
      "Epoch  94 Batch   84/89   train_loss = 0.299\n",
      "Epoch  95 Batch   45/89   train_loss = 0.378\n",
      "Epoch  96 Batch    6/89   train_loss = 0.301\n",
      "Epoch  96 Batch   56/89   train_loss = 0.296\n",
      "Epoch  97 Batch   17/89   train_loss = 0.319\n",
      "Epoch  97 Batch   67/89   train_loss = 0.323\n",
      "Epoch  98 Batch   28/89   train_loss = 0.295\n",
      "Epoch  98 Batch   78/89   train_loss = 0.237\n",
      "Epoch  99 Batch   39/89   train_loss = 0.308\n",
      "Epoch 100 Batch    0/89   train_loss = 0.312\n",
      "Epoch 100 Batch   50/89   train_loss = 0.272\n",
      "Epoch 101 Batch   11/89   train_loss = 0.317\n",
      "Epoch 101 Batch   61/89   train_loss = 0.311\n",
      "Epoch 102 Batch   22/89   train_loss = 0.340\n",
      "Epoch 102 Batch   72/89   train_loss = 0.283\n",
      "Epoch 103 Batch   33/89   train_loss = 0.329\n",
      "Epoch 103 Batch   83/89   train_loss = 0.337\n",
      "Epoch 104 Batch   44/89   train_loss = 0.304\n",
      "Epoch 105 Batch    5/89   train_loss = 0.288\n",
      "Epoch 105 Batch   55/89   train_loss = 0.317\n",
      "Epoch 106 Batch   16/89   train_loss = 0.314\n",
      "Epoch 106 Batch   66/89   train_loss = 0.333\n",
      "Epoch 107 Batch   27/89   train_loss = 0.296\n",
      "Epoch 107 Batch   77/89   train_loss = 0.279\n",
      "Epoch 108 Batch   38/89   train_loss = 0.277\n",
      "Epoch 108 Batch   88/89   train_loss = 0.309\n",
      "Epoch 109 Batch   49/89   train_loss = 0.271\n",
      "Epoch 110 Batch   10/89   train_loss = 0.321\n",
      "Epoch 110 Batch   60/89   train_loss = 0.350\n",
      "Epoch 111 Batch   21/89   train_loss = 0.288\n",
      "Epoch 111 Batch   71/89   train_loss = 0.286\n",
      "Epoch 112 Batch   32/89   train_loss = 0.298\n",
      "Epoch 112 Batch   82/89   train_loss = 0.315\n",
      "Epoch 113 Batch   43/89   train_loss = 0.294\n",
      "Epoch 114 Batch    4/89   train_loss = 0.283\n",
      "Epoch 114 Batch   54/89   train_loss = 0.336\n",
      "Epoch 115 Batch   15/89   train_loss = 0.337\n",
      "Epoch 115 Batch   65/89   train_loss = 0.283\n",
      "Epoch 116 Batch   26/89   train_loss = 0.295\n",
      "Epoch 116 Batch   76/89   train_loss = 0.317\n",
      "Epoch 117 Batch   37/89   train_loss = 0.320\n",
      "Epoch 117 Batch   87/89   train_loss = 0.283\n",
      "Epoch 118 Batch   48/89   train_loss = 0.292\n",
      "Epoch 119 Batch    9/89   train_loss = 0.299\n",
      "Epoch 119 Batch   59/89   train_loss = 0.313\n",
      "Epoch 120 Batch   20/89   train_loss = 0.305\n",
      "Epoch 120 Batch   70/89   train_loss = 0.334\n",
      "Epoch 121 Batch   31/89   train_loss = 0.286\n",
      "Epoch 121 Batch   81/89   train_loss = 0.285\n",
      "Epoch 122 Batch   42/89   train_loss = 0.320\n",
      "Epoch 123 Batch    3/89   train_loss = 0.352\n",
      "Epoch 123 Batch   53/89   train_loss = 0.284\n",
      "Epoch 124 Batch   14/89   train_loss = 0.246\n",
      "Epoch 124 Batch   64/89   train_loss = 0.305\n",
      "Epoch 125 Batch   25/89   train_loss = 0.291\n",
      "Epoch 125 Batch   75/89   train_loss = 0.298\n",
      "Epoch 126 Batch   36/89   train_loss = 0.295\n",
      "Epoch 126 Batch   86/89   train_loss = 0.304\n",
      "Epoch 127 Batch   47/89   train_loss = 0.302\n",
      "Epoch 128 Batch    8/89   train_loss = 0.328\n",
      "Epoch 128 Batch   58/89   train_loss = 0.310\n",
      "Epoch 129 Batch   19/89   train_loss = 0.303\n",
      "Epoch 129 Batch   69/89   train_loss = 0.283\n",
      "Epoch 130 Batch   30/89   train_loss = 0.271\n",
      "Epoch 130 Batch   80/89   train_loss = 0.281\n",
      "Epoch 131 Batch   41/89   train_loss = 0.292\n",
      "Epoch 132 Batch    2/89   train_loss = 0.284\n",
      "Epoch 132 Batch   52/89   train_loss = 0.348\n",
      "Epoch 133 Batch   13/89   train_loss = 0.347\n",
      "Epoch 133 Batch   63/89   train_loss = 0.313\n",
      "Epoch 134 Batch   24/89   train_loss = 0.286\n",
      "Epoch 134 Batch   74/89   train_loss = 0.334\n",
      "Epoch 135 Batch   35/89   train_loss = 0.289\n",
      "Epoch 135 Batch   85/89   train_loss = 0.316\n",
      "Epoch 136 Batch   46/89   train_loss = 0.303\n",
      "Epoch 137 Batch    7/89   train_loss = 0.295\n",
      "Epoch 137 Batch   57/89   train_loss = 0.260\n",
      "Epoch 138 Batch   18/89   train_loss = 0.289\n",
      "Epoch 138 Batch   68/89   train_loss = 0.299\n",
      "Epoch 139 Batch   29/89   train_loss = 0.334\n",
      "Epoch 139 Batch   79/89   train_loss = 0.267\n",
      "Epoch 140 Batch   40/89   train_loss = 0.324\n",
      "Epoch 141 Batch    1/89   train_loss = 0.471\n",
      "Epoch 141 Batch   51/89   train_loss = 0.579\n",
      "Epoch 142 Batch   12/89   train_loss = 0.487\n",
      "Epoch 142 Batch   62/89   train_loss = 0.446\n",
      "Epoch 143 Batch   23/89   train_loss = 0.376\n",
      "Epoch 143 Batch   73/89   train_loss = 0.317\n",
      "Epoch 144 Batch   34/89   train_loss = 0.334\n",
      "Epoch 144 Batch   84/89   train_loss = 0.301\n",
      "Epoch 145 Batch   45/89   train_loss = 0.373\n",
      "Epoch 146 Batch    6/89   train_loss = 0.296\n",
      "Epoch 146 Batch   56/89   train_loss = 0.290\n",
      "Epoch 147 Batch   17/89   train_loss = 0.313\n",
      "Epoch 147 Batch   67/89   train_loss = 0.317\n",
      "Epoch 148 Batch   28/89   train_loss = 0.290\n",
      "Epoch 148 Batch   78/89   train_loss = 0.231\n",
      "Epoch 149 Batch   39/89   train_loss = 0.302\n",
      "Epoch 150 Batch    0/89   train_loss = 0.306\n",
      "Epoch 150 Batch   50/89   train_loss = 0.265\n",
      "Epoch 151 Batch   11/89   train_loss = 0.308\n",
      "Epoch 151 Batch   61/89   train_loss = 0.304\n",
      "Epoch 152 Batch   22/89   train_loss = 0.332\n",
      "Epoch 152 Batch   72/89   train_loss = 0.277\n",
      "Epoch 153 Batch   33/89   train_loss = 0.322\n",
      "Epoch 153 Batch   83/89   train_loss = 0.330\n",
      "Epoch 154 Batch   44/89   train_loss = 0.297\n",
      "Epoch 155 Batch    5/89   train_loss = 0.282\n",
      "Epoch 155 Batch   55/89   train_loss = 0.311\n",
      "Epoch 156 Batch   16/89   train_loss = 0.308\n",
      "Epoch 156 Batch   66/89   train_loss = 0.326\n",
      "Epoch 157 Batch   27/89   train_loss = 0.290\n",
      "Epoch 157 Batch   77/89   train_loss = 0.271\n",
      "Epoch 158 Batch   38/89   train_loss = 0.271\n",
      "Epoch 158 Batch   88/89   train_loss = 0.303\n",
      "Epoch 159 Batch   49/89   train_loss = 0.264\n",
      "Epoch 160 Batch   10/89   train_loss = 0.315\n",
      "Epoch 160 Batch   60/89   train_loss = 0.342\n",
      "Epoch 161 Batch   21/89   train_loss = 0.281\n",
      "Epoch 161 Batch   71/89   train_loss = 0.279\n",
      "Epoch 162 Batch   32/89   train_loss = 0.292\n",
      "Epoch 162 Batch   82/89   train_loss = 0.308\n",
      "Epoch 163 Batch   43/89   train_loss = 0.287\n",
      "Epoch 164 Batch    4/89   train_loss = 0.278\n",
      "Epoch 164 Batch   54/89   train_loss = 0.330\n",
      "Epoch 165 Batch   15/89   train_loss = 0.330\n",
      "Epoch 165 Batch   65/89   train_loss = 0.277\n",
      "Epoch 166 Batch   26/89   train_loss = 0.287\n",
      "Epoch 166 Batch   76/89   train_loss = 0.310\n",
      "Epoch 167 Batch   37/89   train_loss = 0.315\n",
      "Epoch 167 Batch   87/89   train_loss = 0.278\n",
      "Epoch 168 Batch   48/89   train_loss = 0.287\n",
      "Epoch 169 Batch    9/89   train_loss = 0.293\n",
      "Epoch 169 Batch   59/89   train_loss = 0.306\n",
      "Epoch 170 Batch   20/89   train_loss = 0.299\n",
      "Epoch 170 Batch   70/89   train_loss = 0.329\n",
      "Epoch 171 Batch   31/89   train_loss = 0.281\n",
      "Epoch 171 Batch   81/89   train_loss = 0.279\n",
      "Epoch 172 Batch   42/89   train_loss = 0.314\n",
      "Epoch 173 Batch    3/89   train_loss = 0.345\n",
      "Epoch 173 Batch   53/89   train_loss = 0.279\n",
      "Epoch 174 Batch   14/89   train_loss = 0.241\n",
      "Epoch 174 Batch   64/89   train_loss = 0.299\n",
      "Epoch 175 Batch   25/89   train_loss = 0.285\n",
      "Epoch 175 Batch   75/89   train_loss = 0.294\n",
      "Epoch 176 Batch   36/89   train_loss = 0.290\n",
      "Epoch 176 Batch   86/89   train_loss = 0.300\n",
      "Epoch 177 Batch   47/89   train_loss = 0.298\n",
      "Epoch 178 Batch    8/89   train_loss = 0.322\n",
      "Epoch 178 Batch   58/89   train_loss = 0.304\n",
      "Epoch 179 Batch   19/89   train_loss = 0.298\n",
      "Epoch 179 Batch   69/89   train_loss = 0.278\n",
      "Epoch 180 Batch   30/89   train_loss = 0.265\n",
      "Epoch 180 Batch   80/89   train_loss = 0.275\n",
      "Epoch 181 Batch   41/89   train_loss = 0.288\n",
      "Epoch 182 Batch    2/89   train_loss = 0.276\n",
      "Epoch 182 Batch   52/89   train_loss = 0.340\n",
      "Epoch 183 Batch   13/89   train_loss = 0.340\n",
      "Epoch 183 Batch   63/89   train_loss = 0.307\n",
      "Epoch 184 Batch   24/89   train_loss = 0.278\n",
      "Epoch 184 Batch   74/89   train_loss = 0.324\n",
      "Epoch 185 Batch   35/89   train_loss = 0.282\n",
      "Epoch 185 Batch   85/89   train_loss = 0.310\n",
      "Epoch 186 Batch   46/89   train_loss = 0.295\n",
      "Epoch 187 Batch    7/89   train_loss = 0.285\n",
      "Epoch 187 Batch   57/89   train_loss = 0.253\n",
      "Epoch 188 Batch   18/89   train_loss = 0.278\n",
      "Epoch 188 Batch   68/89   train_loss = 0.290\n",
      "Epoch 189 Batch   29/89   train_loss = 0.325\n",
      "Epoch 189 Batch   79/89   train_loss = 0.255\n",
      "Epoch 190 Batch   40/89   train_loss = 0.304\n",
      "Epoch 191 Batch    1/89   train_loss = 0.299\n",
      "Epoch 191 Batch   51/89   train_loss = 0.311\n",
      "Epoch 192 Batch   12/89   train_loss = 0.293\n",
      "Epoch 192 Batch   62/89   train_loss = 0.304\n",
      "Epoch 193 Batch   23/89   train_loss = 0.305\n",
      "Epoch 193 Batch   73/89   train_loss = 0.287\n",
      "Epoch 194 Batch   34/89   train_loss = 0.318\n",
      "Epoch 194 Batch   84/89   train_loss = 0.290\n",
      "Epoch 195 Batch   45/89   train_loss = 0.373\n",
      "Epoch 196 Batch    6/89   train_loss = 0.298\n",
      "Epoch 196 Batch   56/89   train_loss = 0.312\n",
      "Epoch 197 Batch   17/89   train_loss = 0.482\n",
      "Epoch 197 Batch   67/89   train_loss = 0.559\n",
      "Epoch 198 Batch   28/89   train_loss = 0.433\n",
      "Epoch 198 Batch   78/89   train_loss = 0.318\n",
      "Epoch 199 Batch   39/89   train_loss = 0.338\n",
      "Model Trained and Saved\n"
     ]
    }
   ],
   "source": [
    "\"\"\"\n",
    "DON'T MODIFY ANYTHING IN THIS CELL\n",
    "\"\"\"\n",
    "batches = get_batches(int_text, batch_size, seq_length)\n",
    "\n",
    "with tf.Session(graph=train_graph) as sess:\n",
    "    sess.run(tf.global_variables_initializer())\n",
    "\n",
    "    for epoch_i in range(num_epochs):\n",
    "        state = sess.run(initial_state, {input_text: batches[0][0]})\n",
    "\n",
    "        for batch_i, (x, y) in enumerate(batches):\n",
    "            feed = {\n",
    "                input_text: x,\n",
    "                targets: y,\n",
    "                initial_state: state,\n",
    "                lr: learning_rate}\n",
    "            train_loss, state, _ = sess.run([cost, final_state, train_op], feed)\n",
    "\n",
    "            # Show every <show_every_n_batches> batches\n",
    "            if (epoch_i * len(batches) + batch_i) % show_every_n_batches == 0:\n",
    "                print('Epoch {:>3} Batch {:>4}/{}   train_loss = {:.3f}'.format(\n",
    "                    epoch_i,\n",
    "                    batch_i,\n",
    "                    len(batches),\n",
    "                    train_loss))\n",
    "\n",
    "    # Save Model\n",
    "    saver = tf.train.Saver()\n",
    "    saver.save(sess, save_dir)\n",
    "    print('Model Trained and Saved')"
   ]
  },
  {
   "cell_type": "markdown",
   "metadata": {
    "deletable": true,
    "editable": true
   },
   "source": [
    "## Save Parameters\n",
    "Save `seq_length` and `save_dir` for generating a new TV script."
   ]
  },
  {
   "cell_type": "code",
   "execution_count": 23,
   "metadata": {
    "collapsed": false,
    "deletable": true,
    "editable": true
   },
   "outputs": [],
   "source": [
    "\"\"\"\n",
    "DON'T MODIFY ANYTHING IN THIS CELL\n",
    "\"\"\"\n",
    "# Save parameters for checkpoint\n",
    "helper.save_params((seq_length, save_dir))"
   ]
  },
  {
   "cell_type": "markdown",
   "metadata": {
    "deletable": true,
    "editable": true
   },
   "source": [
    "# Checkpoint"
   ]
  },
  {
   "cell_type": "code",
   "execution_count": 24,
   "metadata": {
    "collapsed": false,
    "deletable": true,
    "editable": true
   },
   "outputs": [],
   "source": [
    "\"\"\"\n",
    "DON'T MODIFY ANYTHING IN THIS CELL\n",
    "\"\"\"\n",
    "import tensorflow as tf\n",
    "import numpy as np\n",
    "import helper\n",
    "import problem_unittests as tests\n",
    "\n",
    "_, vocab_to_int, int_to_vocab, token_dict = helper.load_preprocess()\n",
    "seq_length, load_dir = helper.load_params()"
   ]
  },
  {
   "cell_type": "markdown",
   "metadata": {
    "deletable": true,
    "editable": true
   },
   "source": [
    "## Implement Generate Functions\n",
    "### Get Tensors\n",
    "Get tensors from `loaded_graph` using the function [`get_tensor_by_name()`](https://www.tensorflow.org/api_docs/python/tf/Graph#get_tensor_by_name).  Get the tensors using the following names:\n",
    "- \"input:0\"\n",
    "- \"initial_state:0\"\n",
    "- \"final_state:0\"\n",
    "- \"probs:0\"\n",
    "\n",
    "Return the tensors in the following tuple `(InputTensor, InitialStateTensor, FinalStateTensor, ProbsTensor)` "
   ]
  },
  {
   "cell_type": "code",
   "execution_count": 25,
   "metadata": {
    "collapsed": false,
    "deletable": true,
    "editable": true
   },
   "outputs": [
    {
     "name": "stdout",
     "output_type": "stream",
     "text": [
      "Tests Passed\n"
     ]
    }
   ],
   "source": [
    "def get_tensors(loaded_graph):\n",
    "    \"\"\"\n",
    "    Get input, initial state, final state, and probabilities tensor from <loaded_graph>\n",
    "    :param loaded_graph: TensorFlow graph loaded from file\n",
    "    :return: Tuple (InputTensor, InitialStateTensor, FinalStateTensor, ProbsTensor)\n",
    "    \"\"\"\n",
    "    # TODO: Implement Function\n",
    "    Input=loaded_graph.get_tensor_by_name(\"input:0\")\n",
    "    InitialState=loaded_graph.get_tensor_by_name(\"initial_state:0\")\n",
    "    FinalState=loaded_graph.get_tensor_by_name(\"final_state:0\")\n",
    "    Probs=loaded_graph.get_tensor_by_name(\"probs:0\")\n",
    "    return Input, InitialState, FinalState, Probs\n",
    "\n",
    "\n",
    "\"\"\"\n",
    "DON'T MODIFY ANYTHING IN THIS CELL THAT IS BELOW THIS LINE\n",
    "\"\"\"\n",
    "tests.test_get_tensors(get_tensors)"
   ]
  },
  {
   "cell_type": "markdown",
   "metadata": {
    "deletable": true,
    "editable": true
   },
   "source": [
    "### Choose Word\n",
    "Implement the `pick_word()` function to select the next word using `probabilities`."
   ]
  },
  {
   "cell_type": "code",
   "execution_count": 26,
   "metadata": {
    "collapsed": false,
    "deletable": true,
    "editable": true
   },
   "outputs": [
    {
     "name": "stdout",
     "output_type": "stream",
     "text": [
      "Tests Passed\n"
     ]
    }
   ],
   "source": [
    "def pick_word(probabilities, int_to_vocab):\n",
    "    \"\"\"\n",
    "    Pick the next word in the generated text\n",
    "    :param probabilities: Probabilites of the next word\n",
    "    :param int_to_vocab: Dictionary of word ids as the keys and words as the values\n",
    "    :return: String of the predicted word\n",
    "    \"\"\"\n",
    "    # TODO: Implement Function\n",
    "    vocab_size=len(int_to_vocab)\n",
    "    top_n=5\n",
    "    p=np.squeeze(probabilities)\n",
    "    p[np.argsort(p)[:-top_n]] = 0\n",
    "    p = p / np.sum(p)\n",
    "    id_select=np.random.choice(vocab_size, 1, p=p)[0]\n",
    "    pred_word=int_to_vocab[id_select]\n",
    "#     print(pred_word)\n",
    "    return pred_word\n",
    "\n",
    "\n",
    "\"\"\"\n",
    "DON'T MODIFY ANYTHING IN THIS CELL THAT IS BELOW THIS LINE\n",
    "\"\"\"\n",
    "tests.test_pick_word(pick_word)"
   ]
  },
  {
   "cell_type": "markdown",
   "metadata": {
    "deletable": true,
    "editable": true
   },
   "source": [
    "## Generate TV Script\n",
    "This will generate the TV script for you.  Set `gen_length` to the length of TV script you want to generate."
   ]
  },
  {
   "cell_type": "code",
   "execution_count": 27,
   "metadata": {
    "collapsed": false,
    "deletable": true,
    "editable": true
   },
   "outputs": [
    {
     "name": "stdout",
     "output_type": "stream",
     "text": [
      "moe_szyslak:(explaining)\" go near moe.\" i'd say that's too late.\n",
      "homer_simpson:(consoling) yeah.\n",
      "attractive_woman_#1: trying to be okay.\n",
      "homer_simpson: i'm pretty happy by from here.\n",
      "homer_simpson: oh, i can't believe somethin' about a princesses like you all right, jack young of me, have it all your daughter and get all the time.\n",
      "homer_simpson: okay, i'll be what as i get a friend.\n",
      "moe_szyslak:(not noise) i wish i was wrong with no.\n",
      "carl_carlson: pick me, no was the name of my man.\n",
      "barney_gumble: yeah, we need a beer.\n",
      "\n",
      "\n",
      "marge_simpson:(worried) is you do in the face..\n",
      "seymour_skinner: yeah, you were gettin' a college and we gotta see some special.\n",
      "barney_gumble: i'm afraid to you if you want to watch with the house.\n",
      "homer_simpson:(talk-sings) i dunno, i didn't pay for that.\n",
      "moe_szyslak: they nuclear to send the new life in springfield.\n",
      "barney_gumble: okay.\n",
      "homer_simpson: all right.\n"
     ]
    }
   ],
   "source": [
    "gen_length = 200\n",
    "# homer_simpson, moe_szyslak, or Barney_Gumble\n",
    "prime_word = 'moe_szyslak'\n",
    "\n",
    "\"\"\"\n",
    "DON'T MODIFY ANYTHING IN THIS CELL THAT IS BELOW THIS LINE\n",
    "\"\"\"\n",
    "loaded_graph = tf.Graph()\n",
    "with tf.Session(graph=loaded_graph) as sess:\n",
    "    # Load saved model\n",
    "    loader = tf.train.import_meta_graph(load_dir + '.meta')\n",
    "    loader.restore(sess, load_dir)\n",
    "\n",
    "    # Get Tensors from loaded model\n",
    "    input_text, initial_state, final_state, probs = get_tensors(loaded_graph)\n",
    "\n",
    "    # Sentences generation setup\n",
    "    gen_sentences = [prime_word + ':']\n",
    "    prev_state = sess.run(initial_state, {input_text: np.array([[1]])})\n",
    "\n",
    "    # Generate sentences\n",
    "    for n in range(gen_length):\n",
    "        # Dynamic Input\n",
    "        dyn_input = [[vocab_to_int[word] for word in gen_sentences[-seq_length:]]]\n",
    "        dyn_seq_length = len(dyn_input[0])\n",
    "\n",
    "        # Get Prediction\n",
    "        probabilities, prev_state = sess.run(\n",
    "            [probs, final_state],\n",
    "            {input_text: dyn_input, initial_state: prev_state})\n",
    "        \n",
    "        pred_word = pick_word(probabilities[dyn_seq_length-1], int_to_vocab)\n",
    "\n",
    "        gen_sentences.append(pred_word)\n",
    "    \n",
    "    # Remove tokens\n",
    "    tv_script = ' '.join(gen_sentences)\n",
    "    for key, token in token_dict.items():\n",
    "        ending = ' ' if key in ['\\n', '(', '\"'] else ''\n",
    "        tv_script = tv_script.replace(' ' + token.lower(), key)\n",
    "    tv_script = tv_script.replace('\\n ', '\\n')\n",
    "    tv_script = tv_script.replace('( ', '(')\n",
    "        \n",
    "    print(tv_script)"
   ]
  },
  {
   "cell_type": "markdown",
   "metadata": {
    "deletable": true,
    "editable": true
   },
   "source": [
    "# The TV Script is Nonsensical\n",
    "It's ok if the TV script doesn't make any sense.  We trained on less than a megabyte of text.  In order to get good results, you'll have to use a smaller vocabulary or get more data.  Luckly there's more data!  As we mentioned in the begging of this project, this is a subset of [another dataset](https://www.kaggle.com/wcukierski/the-simpsons-by-the-data).  We didn't have you train on all the data, because that would take too long.  However, you are free to train your neural network on all the data.  After you complete the project, of course.\n",
    "# Submitting This Project\n",
    "When submitting this project, make sure to run all the cells before saving the notebook. Save the notebook file as \"dlnd_tv_script_generation.ipynb\" and save it as a HTML file under \"File\" -> \"Download as\". Include the \"helper.py\" and \"problem_unittests.py\" files in your submission."
   ]
  }
 ],
 "metadata": {
  "kernelspec": {
   "display_name": "Python 3",
   "language": "python",
   "name": "python3"
  },
  "language_info": {
   "codemirror_mode": {
    "name": "ipython",
    "version": 3
   },
   "file_extension": ".py",
   "mimetype": "text/x-python",
   "name": "python",
   "nbconvert_exporter": "python",
   "pygments_lexer": "ipython3",
   "version": "3.5.2"
  },
  "widgets": {
   "state": {},
   "version": "1.1.2"
  }
 },
 "nbformat": 4,
 "nbformat_minor": 0
}
